{
 "cells": [
  {
   "cell_type": "markdown",
   "metadata": {},
   "source": [
    "**Problem Statement**\n",
    "\n",
    "Financial threats are displaying a trend about the credit risk of commercial banks as the incredible improvement in the financial industry has arisen. In this way, one of the biggest threats faces by commercial banks is the risk prediction of credit clients. The goal is to predict the probability of credit default based on credit card owner's characteristics and payment and ransaction history."
   ]
  },
  {
   "cell_type": "markdown",
   "metadata": {},
   "source": [
    "**Approach**\n",
    "\n",
    "Tasks:- Hybrid Technique using Deep Learning and Genetics Algorithm. \n",
    "Supervised Learning tasks (Classification Problem)\n",
    "\n",
    "Environment and Tools.\n",
    "\n",
    "1. Tensorflow and Keras API.\n",
    "2. Sklearn.\n",
    "3. Matplotlib and Seaborn.\n",
    "4. MLflow\n",
    "5. PyGad"
   ]
  },
  {
   "cell_type": "markdown",
   "metadata": {
    "execution": {
     "iopub.execute_input": "2022-05-15T18:42:41.124203Z",
     "iopub.status.busy": "2022-05-15T18:42:41.123737Z",
     "iopub.status.idle": "2022-05-15T18:42:41.151077Z",
     "shell.execute_reply": "2022-05-15T18:42:41.150111Z",
     "shell.execute_reply.started": "2022-05-15T18:42:41.124116Z"
    }
   },
   "source": [
    "**Table of Content**\n",
    "1. Importing Dependencies.\n",
    "2. Data Understanding.\n",
    "3. Exploratory Data Analysis.\n",
    "4. Feature Engineering.\n",
    "5. Model Building.\n",
    "6. Model Evaluation and Interpretation"
   ]
  },
  {
   "cell_type": "markdown",
   "metadata": {},
   "source": [
    "**Loading Dependencies**"
   ]
  },
  {
   "cell_type": "code",
   "execution_count": 7,
   "metadata": {
    "execution": {
     "iopub.execute_input": "2022-08-09T18:33:12.103829Z",
     "iopub.status.busy": "2022-08-09T18:33:12.103385Z",
     "iopub.status.idle": "2022-08-09T18:33:20.030109Z",
     "shell.execute_reply": "2022-08-09T18:33:20.028998Z",
     "shell.execute_reply.started": "2022-08-09T18:33:12.103790Z"
    },
    "scrolled": false
   },
   "outputs": [],
   "source": [
    "import pandas as pd\n",
    "import numpy as np\n",
    "from collections import Counter\n",
    "from statsmodels.stats.outliers_influence import variance_inflation_factor\n",
    "\n",
    "\n",
    "import seaborn as sns\n",
    "from matplotlib import pyplot as plt\n",
    "\n",
    "from sklearn.model_selection import train_test_split\n",
    "from sklearn.neighbors import LocalOutlierFactor\n",
    "from sklearn.preprocessing import StandardScaler\n",
    "from sklearn.metrics import confusion_matrix, classification_report\n",
    "\n"
   ]
  },
  {
   "cell_type": "code",
   "execution_count": null,
   "metadata": {},
   "outputs": [],
   "source": []
  },
  {
   "cell_type": "markdown",
   "metadata": {},
   "source": [
    "**Data Understanding**\n",
    "\n",
    "The process of analyzing data is to understand the data and gain useful information so that the derived knowledge can help in decision making."
   ]
  },
  {
   "cell_type": "code",
   "execution_count": 40,
   "metadata": {
    "execution": {
     "iopub.execute_input": "2022-08-09T18:59:39.131103Z",
     "iopub.status.busy": "2022-08-09T18:59:39.130651Z",
     "iopub.status.idle": "2022-08-09T18:59:39.148589Z",
     "shell.execute_reply": "2022-08-09T18:59:39.147661Z",
     "shell.execute_reply.started": "2022-08-09T18:59:39.131066Z"
    }
   },
   "outputs": [],
   "source": [
    "# loading dataset\n",
    "df = pd.read_csv('customer_transaction.csv')"
   ]
  },
  {
   "cell_type": "code",
   "execution_count": 7,
   "metadata": {
    "execution": {
     "iopub.execute_input": "2022-08-09T18:33:20.070946Z",
     "iopub.status.busy": "2022-08-09T18:33:20.070275Z",
     "iopub.status.idle": "2022-08-09T18:33:20.092204Z",
     "shell.execute_reply": "2022-08-09T18:33:20.091038Z",
     "shell.execute_reply.started": "2022-08-09T18:33:20.070911Z"
    }
   },
   "outputs": [],
   "source": [
    "# returns the first five rows\n",
    "df.head()"
   ]
  },
  {
   "cell_type": "code",
   "execution_count": 8,
   "metadata": {
    "execution": {
     "iopub.execute_input": "2022-08-09T18:33:20.094975Z",
     "iopub.status.busy": "2022-08-09T18:33:20.094141Z",
     "iopub.status.idle": "2022-08-09T18:33:20.101647Z",
     "shell.execute_reply": "2022-08-09T18:33:20.100868Z",
     "shell.execute_reply.started": "2022-08-09T18:33:20.094930Z"
    }
   },
   "outputs": [],
   "source": [
    "# return a tuple representing the dimensionality of the datasets\n",
    "df.shape"
   ]
  },
  {
   "cell_type": "code",
   "execution_count": 10,
   "metadata": {
    "execution": {
     "iopub.execute_input": "2022-08-09T18:33:20.120584Z",
     "iopub.status.busy": "2022-08-09T18:33:20.120170Z",
     "iopub.status.idle": "2022-08-09T18:33:20.143792Z",
     "shell.execute_reply": "2022-08-09T18:33:20.142520Z",
     "shell.execute_reply.started": "2022-08-09T18:33:20.120549Z"
    }
   },
   "outputs": [],
   "source": [
    "# print a concise summary about the dataset\n",
    "df.info()"
   ]
  },
  {
   "cell_type": "code",
   "execution_count": 11,
   "metadata": {
    "execution": {
     "iopub.execute_input": "2022-08-09T18:33:20.146140Z",
     "iopub.status.busy": "2022-08-09T18:33:20.145696Z",
     "iopub.status.idle": "2022-08-09T18:33:20.159103Z",
     "shell.execute_reply": "2022-08-09T18:33:20.157779Z",
     "shell.execute_reply.started": "2022-08-09T18:33:20.146098Z"
    }
   },
   "outputs": [],
   "source": [
    "# return the sum of Series denoting duplicate rows.\n",
    "df.duplicated().sum()"
   ]
  },
  {
   "cell_type": "code",
   "execution_count": 12,
   "metadata": {
    "execution": {
     "iopub.execute_input": "2022-08-09T18:33:20.161455Z",
     "iopub.status.busy": "2022-08-09T18:33:20.160747Z",
     "iopub.status.idle": "2022-08-09T18:33:20.171395Z",
     "shell.execute_reply": "2022-08-09T18:33:20.170609Z",
     "shell.execute_reply.started": "2022-08-09T18:33:20.161391Z"
    }
   },
   "outputs": [],
   "source": [
    "# return a Series containing counts of default. \n",
    "df['TX_FRAUD'].value_counts()"
   ]
  },
  {
   "cell_type": "code",
   "execution_count": 13,
   "metadata": {
    "execution": {
     "iopub.execute_input": "2022-08-09T18:33:20.173402Z",
     "iopub.status.busy": "2022-08-09T18:33:20.172628Z",
     "iopub.status.idle": "2022-08-09T18:33:20.186063Z",
     "shell.execute_reply": "2022-08-09T18:33:20.184719Z",
     "shell.execute_reply.started": "2022-08-09T18:33:20.173367Z"
    }
   },
   "outputs": [],
   "source": [
    "# return the total sum of missing values in present in the dataset \n",
    "df.isnull().sum()"
   ]
  },
  {
   "cell_type": "code",
   "execution_count": 14,
   "metadata": {
    "execution": {
     "iopub.execute_input": "2022-08-09T18:33:20.188606Z",
     "iopub.status.busy": "2022-08-09T18:33:20.188189Z",
     "iopub.status.idle": "2022-08-09T18:33:20.223645Z",
     "shell.execute_reply": "2022-08-09T18:33:20.222791Z",
     "shell.execute_reply.started": "2022-08-09T18:33:20.188573Z"
    }
   },
   "outputs": [],
   "source": [
    "# generate descriptive statistics of the dataset.\n",
    "df.describe()"
   ]
  },
  {
   "cell_type": "code",
   "execution_count": 15,
   "metadata": {
    "execution": {
     "iopub.execute_input": "2022-08-09T18:33:20.226375Z",
     "iopub.status.busy": "2022-08-09T18:33:20.225130Z",
     "iopub.status.idle": "2022-08-09T18:33:20.246579Z",
     "shell.execute_reply": "2022-08-09T18:33:20.245509Z",
     "shell.execute_reply.started": "2022-08-09T18:33:20.226312Z"
    }
   },
   "outputs": [],
   "source": [
    "# checking relationship i.e correlation of variable in the dataset\n",
    "corr = df.corr()\n",
    "corr"
   ]
  },
  {
   "cell_type": "code",
   "execution_count": 16,
   "metadata": {
    "execution": {
     "iopub.execute_input": "2022-08-09T18:33:20.248525Z",
     "iopub.status.busy": "2022-08-09T18:33:20.248138Z",
     "iopub.status.idle": "2022-08-09T18:33:20.602815Z",
     "shell.execute_reply": "2022-08-09T18:33:20.601679Z",
     "shell.execute_reply.started": "2022-08-09T18:33:20.248490Z"
    }
   },
   "outputs": [],
   "source": [
    "# checking correlation in heatmap\n",
    "sns.heatmap(corr, cmap='coolwarm', annot=True)\n",
    "plt.show()"
   ]
  },
  {
   "cell_type": "markdown",
   "metadata": {},
   "source": [
    "**Data visualization is the graphical representation of information and data.**"
   ]
  },
  {
   "cell_type": "code",
   "execution_count": 17,
   "metadata": {
    "execution": {
     "iopub.execute_input": "2022-08-09T18:33:20.604532Z",
     "iopub.status.busy": "2022-08-09T18:33:20.604143Z",
     "iopub.status.idle": "2022-08-09T18:33:20.879422Z",
     "shell.execute_reply": "2022-08-09T18:33:20.878297Z",
     "shell.execute_reply.started": "2022-08-09T18:33:20.604500Z"
    }
   },
   "outputs": [],
   "source": [
    "# view the distribution of Age\n",
    "plt.title('view the distribution of Amount')\n",
    "sns.histplot(data=df, x='TX_AMOUNT', bins=30)\n",
    "plt.show()"
   ]
  },
  {
   "cell_type": "code",
   "execution_count": 36,
   "metadata": {
    "execution": {
     "iopub.execute_input": "2022-08-09T18:51:58.748822Z",
     "iopub.status.busy": "2022-08-09T18:51:58.748402Z",
     "iopub.status.idle": "2022-08-09T18:51:58.931577Z",
     "shell.execute_reply": "2022-08-09T18:51:58.930586Z",
     "shell.execute_reply.started": "2022-08-09T18:51:58.748789Z"
    }
   },
   "outputs": [],
   "source": [
    "# detecting outliers using boxplot\n",
    "plt.title('detecting outliers using boxplot')\n",
    "sns.boxplot(x='TX_AMOUNT', data=df)\n",
    "plt.show()"
   ]
  },
  {
   "cell_type": "code",
   "execution_count": 37,
   "metadata": {
    "execution": {
     "iopub.execute_input": "2022-08-09T18:56:14.875498Z",
     "iopub.status.busy": "2022-08-09T18:56:14.875012Z",
     "iopub.status.idle": "2022-08-09T18:56:14.985329Z",
     "shell.execute_reply": "2022-08-09T18:56:14.984451Z",
     "shell.execute_reply.started": "2022-08-09T18:56:14.875459Z"
    }
   },
   "outputs": [],
   "source": [
    "# plotting target col\n",
    "plt.title('Visualizing Target Col')\n",
    "sns.countplot(x='TX_FRAUD', data=df)\n",
    "plt.show()"
   ]
  },
  {
   "cell_type": "markdown",
   "metadata": {},
   "source": [
    "**Performing Feature Engineering**"
   ]
  },
  {
   "cell_type": "code",
   "execution_count": 41,
   "metadata": {
    "execution": {
     "iopub.execute_input": "2022-08-09T18:59:47.362830Z",
     "iopub.status.busy": "2022-08-09T18:59:47.362398Z",
     "iopub.status.idle": "2022-08-09T18:59:47.369602Z",
     "shell.execute_reply": "2022-08-09T18:59:47.368497Z",
     "shell.execute_reply.started": "2022-08-09T18:59:47.362795Z"
    }
   },
   "outputs": [],
   "source": [
    "df['TX_DATETIME'] = df['TX_DATETIME'].astype(str)"
   ]
  },
  {
   "cell_type": "code",
   "execution_count": 42,
   "metadata": {
    "execution": {
     "iopub.execute_input": "2022-08-09T19:00:20.623636Z",
     "iopub.status.busy": "2022-08-09T19:00:20.622338Z",
     "iopub.status.idle": "2022-08-09T19:00:20.674979Z",
     "shell.execute_reply": "2022-08-09T19:00:20.673826Z",
     "shell.execute_reply.started": "2022-08-09T19:00:20.623580Z"
    }
   },
   "outputs": [],
   "source": [
    "# feature engineering\n",
    "df['DATE'] = df['TX_DATETIME'].str.split('/').str[0]\n",
    "df['MONTH'] = df['TX_DATETIME'].str.split('/').str[1]\n",
    "df['YEAR'] = df['TX_DATETIME'].str.split('/').str[2]"
   ]
  },
  {
   "cell_type": "code",
   "execution_count": 35,
   "metadata": {
    "execution": {
     "iopub.execute_input": "2022-08-09T18:47:54.376243Z",
     "iopub.status.busy": "2022-08-09T18:47:54.375772Z",
     "iopub.status.idle": "2022-08-09T18:47:54.386145Z",
     "shell.execute_reply": "2022-08-09T18:47:54.385160Z",
     "shell.execute_reply.started": "2022-08-09T18:47:54.376205Z"
    }
   },
   "outputs": [],
   "source": [
    "df.drop(['TRANSACTION_ID', 'TX_DATETIME'], inplace=True, axis=1)"
   ]
  },
  {
   "cell_type": "code",
   "execution_count": 20,
   "metadata": {
    "execution": {
     "iopub.execute_input": "2022-08-09T18:33:20.952645Z",
     "iopub.status.busy": "2022-08-09T18:33:20.951826Z",
     "iopub.status.idle": "2022-08-09T18:33:20.961946Z",
     "shell.execute_reply": "2022-08-09T18:33:20.960779Z",
     "shell.execute_reply.started": "2022-08-09T18:33:20.952608Z"
    }
   },
   "outputs": [],
   "source": [
    "# assign independent variables \n",
    "x = df.drop(['TX_FRAUD'], axis=1)\n",
    "# assign dependent variable\n",
    "y = df['TX_FRAUD']"
   ]
  },
  {
   "cell_type": "markdown",
   "metadata": {},
   "source": [
    "**Splitting Dataset into Train and Test**"
   ]
  },
  {
   "cell_type": "code",
   "execution_count": 21,
   "metadata": {
    "execution": {
     "iopub.execute_input": "2022-08-09T18:33:20.964213Z",
     "iopub.status.busy": "2022-08-09T18:33:20.963206Z",
     "iopub.status.idle": "2022-08-09T18:33:20.975145Z",
     "shell.execute_reply": "2022-08-09T18:33:20.974138Z",
     "shell.execute_reply.started": "2022-08-09T18:33:20.964177Z"
    }
   },
   "outputs": [],
   "source": [
    "# Split arrays or matrices into random train and test subsets.\n",
    "x_train, x_test, y_train, y_test = train_test_split(x, y, test_size=0.33, random_state=1)"
   ]
  },
  {
   "cell_type": "code",
   "execution_count": 22,
   "metadata": {
    "execution": {
     "iopub.execute_input": "2022-08-09T18:33:20.977469Z",
     "iopub.status.busy": "2022-08-09T18:33:20.976414Z",
     "iopub.status.idle": "2022-08-09T18:33:20.983007Z",
     "shell.execute_reply": "2022-08-09T18:33:20.982007Z",
     "shell.execute_reply.started": "2022-08-09T18:33:20.977417Z"
    }
   },
   "outputs": [],
   "source": [
    "# checking the spread of data\n",
    "print(x_train.shape)\n",
    "print(x_test.shape)\n",
    "print(y_train.shape)\n",
    "print(y_test.shape)"
   ]
  },
  {
   "cell_type": "markdown",
   "metadata": {},
   "source": [
    "**Using Imblearn Library to Handle Data Imbalance present in the Dataset.**\n",
    "\n",
    "Use the Synthetic Minority Oversampling Technique (SMOTE) which is a statistical technique for increasing the number of cases in your dataset in a balanced way. To data Imbalance present in the dataset.\n",
    "\n",
    "none_fraud_transaction = 23364\n",
    "\n",
    "fraud_transaction = 6636"
   ]
  },
  {
   "cell_type": "code",
   "execution_count": 23,
   "metadata": {
    "execution": {
     "iopub.execute_input": "2022-08-09T18:33:20.985021Z",
     "iopub.status.busy": "2022-08-09T18:33:20.984175Z",
     "iopub.status.idle": "2022-08-09T18:33:21.445522Z",
     "shell.execute_reply": "2022-08-09T18:33:21.442520Z",
     "shell.execute_reply.started": "2022-08-09T18:33:20.984970Z"
    }
   },
   "outputs": [],
   "source": [
    "# outputing y value before over sampling.\n",
    "counter = Counter(y_train)\n",
    "print(\"Before Sampling: {}\".format(counter))\n",
    "\n",
    "# Over-sampling using SMOTE and cleaning using ENN.\n",
    "sm = SMOTEENN()\n",
    "# esample the dataset.\n",
    "x_train_sm, y_train_sm = sm.fit_resample(x_train, y_train)\n",
    "\n",
    "# outputing y value after over sampling.\n",
    "counter = Counter(y_train_sm)\n",
    "print(\"After Sampling: {}\".format(counter))"
   ]
  },
  {
   "cell_type": "markdown",
   "metadata": {},
   "source": [
    "**Automatic Treatment of Outliers using LocalOutlierFactor**\n",
    "\n",
    "The anomaly score of each sample is called the Local Outlier Factor.\n",
    "It measures the local deviation of the density of a given sample with respect\n",
    "to its neighbors.."
   ]
  },
  {
   "cell_type": "code",
   "execution_count": null,
   "metadata": {
    "execution": {
     "iopub.status.busy": "2022-08-09T18:33:21.446464Z",
     "iopub.status.idle": "2022-08-09T18:33:21.447342Z",
     "shell.execute_reply": "2022-08-09T18:33:21.447143Z",
     "shell.execute_reply.started": "2022-08-09T18:33:21.447121Z"
    }
   },
   "outputs": [],
   "source": [
    "# Unsupervised Outlier Detection using the Local Outlier Factor (LOF).\n",
    "lof = LocalOutlierFactor()\n",
    "# Returns -1 for outliers and 1 for inliers.\n",
    "pred = lof.fit_predict(x_train_sm)"
   ]
  },
  {
   "cell_type": "code",
   "execution_count": null,
   "metadata": {
    "execution": {
     "iopub.status.busy": "2022-08-09T18:33:21.448536Z",
     "iopub.status.idle": "2022-08-09T18:33:21.449347Z",
     "shell.execute_reply": "2022-08-09T18:33:21.449157Z",
     "shell.execute_reply.started": "2022-08-09T18:33:21.449136Z"
    }
   },
   "outputs": [],
   "source": [
    "# select all rows that are not outliers\n",
    "mask = pred != -1\n",
    "x_train_sm, y_train_sm = x_train_sm[mask], y_train_sm[mask]\n",
    "# summarize the shape of the updated training dataset\n",
    "print(x_train_sm.shape, y_train_sm.shape)"
   ]
  },
  {
   "cell_type": "code",
   "execution_count": null,
   "metadata": {
    "execution": {
     "iopub.status.busy": "2022-08-09T18:33:21.450576Z",
     "iopub.status.idle": "2022-08-09T18:33:21.450959Z",
     "shell.execute_reply": "2022-08-09T18:33:21.450783Z",
     "shell.execute_reply.started": "2022-08-09T18:33:21.450766Z"
    }
   },
   "outputs": [],
   "source": [
    "# Apply a power transform featurewise to make data more Gaussian-like.\n",
    "sc = StandardScaler()\n",
    "# fit on the training dataset\n",
    "sc.fit(x_train_sm)\n",
    "\n",
    "# scale the training datasets\n",
    "x_train_sm = sc.transform(x_train_sm)\n",
    "# scale the testing datasets                \n",
    "x_test = sc.transform(x_test)                                                   "
   ]
  },
  {
   "cell_type": "markdown",
   "metadata": {},
   "source": [
    "**Model Development**\n",
    "\n",
    "TensorFlow is an open-sourced end-to-end platform, a library for multiple machine learning tasks, while Keras is a high-level neural network library that runs on top of TensorFlow"
   ]
  },
  {
   "cell_type": "code",
   "execution_count": null,
   "metadata": {
    "execution": {
     "iopub.status.busy": "2022-08-09T18:33:21.452769Z",
     "iopub.status.idle": "2022-08-09T18:33:21.453150Z",
     "shell.execute_reply": "2022-08-09T18:33:21.452983Z",
     "shell.execute_reply.started": "2022-08-09T18:33:21.452966Z"
    }
   },
   "outputs": [],
   "source": [
    "# kernel_regularizer=L1L2(l1=1e-3, l2=1e-2), bias_regularizer=L2(1e-4)\n",
    "# building keras model\n",
    "def build_model():\n",
    "    # Sequential groups a linear stack of layers\n",
    "    model = Sequential([\n",
    "        Dense(64, activation=\"relu\", input_shape=(9,)),\n",
    "        Dense(128, activation=\"relu\"),\n",
    "        Dense(256, activation=\"relu\"),\n",
    "        Dense(256, activation=\"relu\"),\n",
    "        Dense(128, activation=\"relu\"),\n",
    "        Dense(1, activation=\"sigmoid\")\n",
    "    ])\n",
    "    return model\n",
    "\n",
    "model = build_model()"
   ]
  },
  {
   "cell_type": "code",
   "execution_count": null,
   "metadata": {
    "execution": {
     "iopub.status.busy": "2022-08-09T18:33:21.454071Z",
     "iopub.status.idle": "2022-08-09T18:33:21.454448Z",
     "shell.execute_reply": "2022-08-09T18:33:21.454265Z",
     "shell.execute_reply.started": "2022-08-09T18:33:21.454248Z"
    }
   },
   "outputs": [],
   "source": [
    "# Prints a string summary of the network.\n",
    "model.summary()"
   ]
  },
  {
   "cell_type": "code",
   "execution_count": null,
   "metadata": {
    "execution": {
     "iopub.status.busy": "2022-08-09T18:33:21.456235Z",
     "iopub.status.idle": "2022-08-09T18:33:21.457001Z",
     "shell.execute_reply": "2022-08-09T18:33:21.456768Z",
     "shell.execute_reply.started": "2022-08-09T18:33:21.456732Z"
    }
   },
   "outputs": [],
   "source": [
    "# Configures the model for training.\n",
    "model.compile(\n",
    "    # Gradient descent (with momentum) optimizer.\n",
    "    optimizer=SGD(learning_rate=0.001, momentum=0.9, clipnorm=5.0, clipvalue=1.0),\n",
    "    # Computes the cross-entropy loss between true labels and predicted labels.\n",
    "    loss=BinaryCrossentropy(),\n",
    "    # Calculates how often predictions match binary labels.\n",
    "    metrics=[BinaryAccuracy()])"
   ]
  },
  {
   "cell_type": "code",
   "execution_count": null,
   "metadata": {
    "execution": {
     "iopub.status.busy": "2022-08-09T18:33:21.458417Z",
     "iopub.status.idle": "2022-08-09T18:33:21.458864Z",
     "shell.execute_reply": "2022-08-09T18:33:21.458685Z",
     "shell.execute_reply.started": "2022-08-09T18:33:21.458665Z"
    }
   },
   "outputs": [],
   "source": [
    "# model improving.\n",
    "call_back = [\n",
    "    # Callback to save the Keras model or model weights at some frequency.\n",
    "    ModelCheckpoint(filepath=\"./\", monitor=\"val_loss\", save_best_only=True, save_weights_only=True, mode=\"max\"),\n",
    "    # TensorBoard is a visualization tool provided with TensorFlow.\n",
    "    TensorBoard(log_dir='./logs', update_freq=1),\n",
    "    # Stop training when a monitored metric has stopped improving.\n",
    "    EarlyStopping(monitor='val_loss', patience=20, mode='min', restore_best_weights=True)\n",
    "]"
   ]
  },
  {
   "cell_type": "code",
   "execution_count": null,
   "metadata": {
    "execution": {
     "iopub.status.busy": "2022-08-09T18:33:21.461404Z",
     "iopub.status.idle": "2022-08-09T18:33:21.461870Z",
     "shell.execute_reply": "2022-08-09T18:33:21.461677Z",
     "shell.execute_reply.started": "2022-08-09T18:33:21.461657Z"
    }
   },
   "outputs": [],
   "source": [
    "# Set the given experiment as the active experiment. \n",
    "mlflow.set_experiment(\"Customer Churn Prediction\")\n",
    "\n",
    "# Start a new MLflow run\n",
    "with mlflow.start_run(): \n",
    "    # Enables automatic logging\n",
    "    autolog()\n",
    "    \n",
    "    # Trains the model for a fixed number of epochs (iterations on a dataset).\n",
    "    history = model.fit(x_train_sm, y_train_sm, batch_size=64, epochs=50, callbacks=call_back, validation_data=(x_test, y_test))\n",
    "    \n",
    "    # Saves a model as a TensorFlow SavedModel or HDF5 file.\n",
    "    save_model(model, filepath=\"model.h5\")\n",
    "    \n",
    "    # Loads a model saved\n",
    "    loaded_model = load_model(filepath=\"model.h5\")\n",
    "\n",
    "    # Generates output predictions for the x_test input sample.\n",
    "    pred = loaded_model.predict(x_test)\n",
    "    \n",
    "    # Returns the loss value & metrics values for the model in test mode.\n",
    "    _, acc = loaded_model.evaluate(x_train_sm, y_train_sm, batch_size=128, verbose=0)\n",
    "    print(\"Train Accuracy: {:.2f}\".format(acc*100))\n",
    "\n",
    "    # Returns the loss value & metrics values for the model in test mode.\n",
    "    _, acc = loaded_model.evaluate(x_test, y_test, batch_size=128, verbose=0)\n",
    "    print(\"Model Accuracy: {:.2f}\".format(acc*100))\n",
    "    \n",
    "    metric = {\n",
    "        \"Training Accuracy\": acc,\n",
    "        \"Testing Accuracy\": acc\n",
    "    }\n",
    "    # Log multiple metrics for the current run\n",
    "    log_metrics(metric)\n",
    "    \n",
    "# End an active MLflow run\n",
    "mlflow.end_run()"
   ]
  },
  {
   "cell_type": "code",
   "execution_count": null,
   "metadata": {
    "execution": {
     "iopub.status.busy": "2022-08-09T18:33:21.463921Z",
     "iopub.status.idle": "2022-08-09T18:33:21.464335Z",
     "shell.execute_reply": "2022-08-09T18:33:21.464152Z",
     "shell.execute_reply.started": "2022-08-09T18:33:21.464132Z"
    }
   },
   "outputs": [],
   "source": [
    "y_hat = [1 if i > 0.5 else 0 for i in pred]"
   ]
  },
  {
   "cell_type": "code",
   "execution_count": null,
   "metadata": {
    "execution": {
     "iopub.status.busy": "2022-08-09T18:33:21.465683Z",
     "iopub.status.idle": "2022-08-09T18:33:21.466099Z",
     "shell.execute_reply": "2022-08-09T18:33:21.465915Z",
     "shell.execute_reply.started": "2022-08-09T18:33:21.465896Z"
    }
   },
   "outputs": [],
   "source": [
    "# Build a text report showing the main classification metrics.\n",
    "print(classification_report(y_test, y_hat))"
   ]
  },
  {
   "cell_type": "code",
   "execution_count": null,
   "metadata": {
    "execution": {
     "iopub.status.busy": "2022-08-09T18:33:21.467326Z",
     "iopub.status.idle": "2022-08-09T18:33:21.467766Z",
     "shell.execute_reply": "2022-08-09T18:33:21.467570Z",
     "shell.execute_reply.started": "2022-08-09T18:33:21.467551Z"
    }
   },
   "outputs": [],
   "source": [
    "# Compute confusion matrix to evaluate the accuracy of a classification.\n",
    "con_matrix = pd.DataFrame(confusion_matrix(y_test, y_hat), \n",
    "                          index=[\"Actual: No\", \"Actual: Yes\"],\n",
    "                          columns=(\"Predicted: No\", \"Predicted: Yes\"))\n",
    "print(con_matrix)"
   ]
  },
  {
   "cell_type": "code",
   "execution_count": null,
   "metadata": {
    "execution": {
     "iopub.status.busy": "2022-08-09T18:33:21.468963Z",
     "iopub.status.idle": "2022-08-09T18:33:21.469354Z",
     "shell.execute_reply": "2022-08-09T18:33:21.469180Z",
     "shell.execute_reply.started": "2022-08-09T18:33:21.469161Z"
    }
   },
   "outputs": [],
   "source": [
    "# plotting model peformance\n",
    "def plot_graph(history, string):\n",
    "    plt.plot(history.history[string])\n",
    "    plt.plot(history.history[\"val_\"+string])\n",
    "    plt.xlabel(\"Epochs.\")\n",
    "    plt.ylabel(string)\n",
    "    plt.legend([string, \"val_\"+string])\n",
    "    plt.show()\n",
    "\n",
    "# Model Accuracy Performance \n",
    "plot_graph(history, \"binary_accuracy\")\n",
    "# Model Validation Performance\n",
    "plot_graph(history, \"loss\")"
   ]
  },
  {
   "cell_type": "markdown",
   "metadata": {},
   "source": [
    "**Using PyGad for Optimization.**\n",
    "\n",
    "1. Instantiate KerasGA\n",
    "2. Define fitness function\n",
    "3. Create Callback function\n",
    "4. Plot the result\n",
    "5. Measure the Loss and Accuracy"
   ]
  },
  {
   "cell_type": "code",
   "execution_count": null,
   "metadata": {
    "execution": {
     "iopub.status.busy": "2022-08-09T18:33:21.481607Z",
     "iopub.status.idle": "2022-08-09T18:33:21.482022Z",
     "shell.execute_reply": "2022-08-09T18:33:21.481847Z",
     "shell.execute_reply.started": "2022-08-09T18:33:21.481827Z"
    }
   },
   "outputs": [],
   "source": [
    "# Creates an instance of the KerasGA class to build a population of model parameters.\n",
    "keras_ga = KerasGA(model=model,\n",
    "                   num_solutions=50)"
   ]
  },
  {
   "cell_type": "code",
   "execution_count": null,
   "metadata": {
    "execution": {
     "iopub.status.busy": "2022-08-09T18:33:21.483370Z",
     "iopub.status.idle": "2022-08-09T18:33:21.483814Z",
     "shell.execute_reply": "2022-08-09T18:33:21.483638Z",
     "shell.execute_reply.started": "2022-08-09T18:33:21.483618Z"
    }
   },
   "outputs": [],
   "source": [
    "# assign x_train to data_input\n",
    "data_input = x_train_sm\n",
    "# assign y_train to data_output\n",
    "data_output = y_train_sm"
   ]
  },
  {
   "cell_type": "code",
   "execution_count": null,
   "metadata": {
    "execution": {
     "iopub.status.busy": "2022-08-09T18:33:21.485073Z",
     "iopub.status.idle": "2022-08-09T18:33:21.485503Z",
     "shell.execute_reply": "2022-08-09T18:33:21.485293Z",
     "shell.execute_reply.started": "2022-08-09T18:33:21.485274Z"
    }
   },
   "outputs": [],
   "source": [
    "# creating fitness function.\n",
    "def fitness_func(solution, solution_idx):\n",
    "    global data_input, data_output, keras_ga, model\n",
    "    \n",
    "    # set keras model to matrix\n",
    "    model_weight_matrix = model_weights_as_matrix(model=model, weights_vector=solution)\n",
    "    \n",
    "    # sets the weights of the layer, from NumPy arrays.\n",
    "    model.set_weights(weights=model_weight_matrix)\n",
    "    \n",
    "    # Generates output predictions for the input samples\n",
    "    prediction = predict(model=model, \n",
    "                         solution=solution, \n",
    "                         data=data_input)\n",
    "    \n",
    "    # Computes the cross-entropy loss between true labels and predicted labels.\n",
    "    criterion = BinaryCrossentropy()\n",
    "    \n",
    "    solution_fitness = 1.0 / (criterion(data_output, prediction).numpy() + 0.00000001)\n",
    "    return solution_fitness"
   ]
  },
  {
   "cell_type": "code",
   "execution_count": null,
   "metadata": {
    "execution": {
     "iopub.status.busy": "2022-08-09T18:33:21.487383Z",
     "iopub.status.idle": "2022-08-09T18:33:21.487889Z",
     "shell.execute_reply": "2022-08-09T18:33:21.487637Z",
     "shell.execute_reply.started": "2022-08-09T18:33:21.487617Z"
    }
   },
   "outputs": [],
   "source": [
    "# creating callback on_generation function\n",
    "def on_generation(ga_instance):\n",
    "    # Convert a number or string to an integer.\n",
    "    print(\"Generation: {generation}\".format(generation=ga_instance.generations_completed), end='\\n')\n",
    "    # Returns information about the best solution found by the genetic algorithm.\n",
    "    print(\"Fitness: {fitness}\".format(fitness=ga_instance.best_solution()[1]))"
   ]
  },
  {
   "cell_type": "code",
   "execution_count": null,
   "metadata": {
    "execution": {
     "iopub.status.busy": "2022-08-09T18:33:21.490006Z",
     "iopub.status.idle": "2022-08-09T18:33:21.490377Z",
     "shell.execute_reply": "2022-08-09T18:33:21.490203Z",
     "shell.execute_reply.started": "2022-08-09T18:33:21.490186Z"
    }
   },
   "outputs": [],
   "source": [
    "# Initial population of network weights.\n",
    "initial_pol = keras_ga.population_weights"
   ]
  },
  {
   "cell_type": "code",
   "execution_count": null,
   "metadata": {
    "execution": {
     "iopub.status.busy": "2022-08-09T18:33:21.491929Z",
     "iopub.status.idle": "2022-08-09T18:33:21.492325Z",
     "shell.execute_reply": "2022-08-09T18:33:21.492151Z",
     "shell.execute_reply.started": "2022-08-09T18:33:21.492132Z"
    }
   },
   "outputs": [],
   "source": [
    "# Instantiate GA class\n",
    "ga_instance = GA(num_generations=400,\n",
    "                 num_parents_mating=4, \n",
    "                 initial_population=initial_pol,\n",
    "                 fitness_func=fitness_func,\n",
    "                 on_generation=on_generation,\n",
    "                 parent_selection_type=\"sss\",\n",
    "                 keep_parents=1,\n",
    "                 crossover_type=\"single_point\",\n",
    "                 mutation_type=\"random\",\n",
    "                 mutation_percent_genes=10,)"
   ]
  },
  {
   "cell_type": "code",
   "execution_count": null,
   "metadata": {
    "execution": {
     "iopub.status.busy": "2022-08-09T18:33:21.493568Z",
     "iopub.status.idle": "2022-08-09T18:33:21.493965Z",
     "shell.execute_reply": "2022-08-09T18:33:21.493789Z",
     "shell.execute_reply.started": "2022-08-09T18:33:21.493770Z"
    }
   },
   "outputs": [],
   "source": [
    "# Runs the genetic algorithm.\n",
    "ga_instance.run()"
   ]
  },
  {
   "cell_type": "code",
   "execution_count": null,
   "metadata": {
    "execution": {
     "iopub.status.busy": "2022-08-09T18:33:21.495545Z",
     "iopub.status.idle": "2022-08-09T18:33:21.495949Z",
     "shell.execute_reply": "2022-08-09T18:33:21.495767Z",
     "shell.execute_reply.started": "2022-08-09T18:33:21.495748Z"
    }
   },
   "outputs": [],
   "source": [
    "# Creates, shows, and returns a figure that summarizes how the fitness value evolved by generation\n",
    "ga_instance.plot_fitness(title=\"PyGAD & Keras - Iteration vs. Fitness\", linewidth=4)"
   ]
  },
  {
   "cell_type": "code",
   "execution_count": null,
   "metadata": {
    "execution": {
     "iopub.status.busy": "2022-08-09T18:33:21.497190Z",
     "iopub.status.idle": "2022-08-09T18:33:21.497641Z",
     "shell.execute_reply": "2022-08-09T18:33:21.497415Z",
     "shell.execute_reply.started": "2022-08-09T18:33:21.497395Z"
    }
   },
   "outputs": [],
   "source": [
    "# Returning the details of the best solution.\n",
    "solution, solution_fitness, solution_idx = ga_instance.best_solution()\n",
    "print(\"Fitness value of the best solution = {solution_fitness}\".format(solution_fitness=solution_fitness))\n",
    "print(\"Index of the best solution : {solution_idx}\".format(solution_idx=solution_idx))"
   ]
  },
  {
   "cell_type": "code",
   "execution_count": null,
   "metadata": {
    "execution": {
     "iopub.status.busy": "2022-08-09T18:33:21.499498Z",
     "iopub.status.idle": "2022-08-09T18:33:21.499919Z",
     "shell.execute_reply": "2022-08-09T18:33:21.499738Z",
     "shell.execute_reply.started": "2022-08-09T18:33:21.499714Z"
    }
   },
   "outputs": [],
   "source": [
    "# Make prediction based on the best solution.\n",
    "predictions = predict(model=model,\n",
    "                      solution=solution,\n",
    "                      data=data_input)\n",
    "\n",
    "print(\"Predictions : \\n\", predictions)"
   ]
  },
  {
   "cell_type": "code",
   "execution_count": null,
   "metadata": {
    "execution": {
     "iopub.status.busy": "2022-08-09T18:33:21.501061Z",
     "iopub.status.idle": "2022-08-09T18:33:21.501486Z",
     "shell.execute_reply": "2022-08-09T18:33:21.501278Z",
     "shell.execute_reply.started": "2022-08-09T18:33:21.501260Z"
    }
   },
   "outputs": [],
   "source": [
    "# calculate the binary crossentropy for the trained model\n",
    "bce = BinaryCrossentropy()\n",
    "print(\"BinaryCrossentropy: {:.3f}\".format(bce(data_output, predictions).numpy()))\n",
    "\n",
    "# calculate the binary accuracy on the trained model\n",
    "ba = BinaryAccuracy()\n",
    "ba.update_state(data_output, predictions)\n",
    "accuracy = ba.result().numpy()\n",
    "print(\"Binary Accuracy: {:.3f}\".format(accuracy))"
   ]
  }
 ],
 "metadata": {
  "kernelspec": {
   "display_name": "Python 3 (ipykernel)",
   "language": "python",
   "name": "python3"
  },
  "language_info": {
   "codemirror_mode": {
    "name": "ipython",
    "version": 3
   },
   "file_extension": ".py",
   "mimetype": "text/x-python",
   "name": "python",
   "nbconvert_exporter": "python",
   "pygments_lexer": "ipython3",
   "version": "3.9.7"
  }
 },
 "nbformat": 4,
 "nbformat_minor": 4
}
