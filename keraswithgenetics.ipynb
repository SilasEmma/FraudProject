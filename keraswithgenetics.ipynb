{
 "cells": [
  {
   "cell_type": "markdown",
   "metadata": {},
   "source": [
    "**Problem Statement**\n",
    "\n",
    "Financial threats are displaying a trend about the credit risk of commercial banks as the incredible improvement in the financial industry has arisen. In this way, one of the biggest threats faces by commercial banks is the risk prediction of credit clients. The goal is to predict the probability of credit default based on credit card owner's characteristics and payment and ransaction history."
   ]
  },
  {
   "cell_type": "markdown",
   "metadata": {},
   "source": [
    "**Approach**\n",
    "\n",
    "Tasks:- Hybrid Technique using Deep Learning and Genetics Algorithm. \n",
    "Supervised Learning tasks (Classification Problem)\n",
    "\n",
    "Environment and Tools.\n",
    "\n",
    "1. Tensorflow and Keras API.\n",
    "2. Sklearn.\n",
    "3. Matplotlib and Seaborn.\n",
    "4. MLflow\n",
    "5. PyGad"
   ]
  },
  {
   "cell_type": "markdown",
   "metadata": {
    "execution": {
     "iopub.execute_input": "2022-05-15T18:42:41.124203Z",
     "iopub.status.busy": "2022-05-15T18:42:41.123737Z",
     "iopub.status.idle": "2022-05-15T18:42:41.151077Z",
     "shell.execute_reply": "2022-05-15T18:42:41.150111Z",
     "shell.execute_reply.started": "2022-05-15T18:42:41.124116Z"
    }
   },
   "source": [
    "**Table of Content**\n",
    "1. Importing Dependencies.\n",
    "2. Data Understanding.\n",
    "3. Exploratory Data Analysis.\n",
    "4. Feature Engineering.\n",
    "5. Model Building.\n",
    "6. Model Evaluation and Interpretation"
   ]
  },
  {
   "cell_type": "markdown",
   "metadata": {},
   "source": [
    "**Loading Dependencies**"
   ]
  },
  {
   "cell_type": "code",
   "execution_count": 67,
   "metadata": {
    "execution": {
     "iopub.execute_input": "2022-08-09T18:33:12.103829Z",
     "iopub.status.busy": "2022-08-09T18:33:12.103385Z",
     "iopub.status.idle": "2022-08-09T18:33:20.030109Z",
     "shell.execute_reply": "2022-08-09T18:33:20.028998Z",
     "shell.execute_reply.started": "2022-08-09T18:33:12.103790Z"
    },
    "scrolled": false
   },
   "outputs": [],
   "source": [
    "import pandas as pd\n",
    "import numpy as np\n",
    "from collections import Counter\n",
    "\n",
    "import seaborn as sns\n",
    "from matplotlib import pyplot as plt\n",
    "\n",
    "from sklearn.model_selection import train_test_split\n",
    "from sklearn.neighbors import LocalOutlierFactor\n",
    "from sklearn.preprocessing import StandardScaler\n",
    "from sklearn.metrics import confusion_matrix, classification_report\n",
    "\n",
    "from pygad import GA\n",
    "from pygad.kerasga import KerasGA, model_weights_as_vector, model_weights_as_matrix, predict\n",
    "\n",
    "from imblearn.combine import SMOTEENN\n",
    "from imblearn.over_sampling import SMOTE\n",
    "\n",
    "from tensorflow.keras.layers import Dense, Dropout\n",
    "from tensorflow.keras.models import Sequential, load_model, save_model\n",
    "from tensorflow.keras.losses import BinaryCrossentropy\n",
    "from tensorflow.keras.metrics import BinaryAccuracy\n",
    "from tensorflow.keras.optimizers import Adam, SGD\n",
    "from tensorflow.keras.callbacks import Callback, EarlyStopping, TensorBoard, ModelCheckpoint\n",
    "from tensorflow.keras.regularizers import L1L2\n",
    "\n",
    "import mlflow\n",
    "from mlflow.tensorflow import autolog\n",
    "from mlflow import log_metrics"
   ]
  },
  {
   "cell_type": "markdown",
   "metadata": {},
   "source": [
    "**Data Understanding**\n",
    "\n",
    "The process of analyzing data is to understand the data and gain useful information so that the derived knowledge can help in decision making."
   ]
  },
  {
   "cell_type": "code",
   "execution_count": 28,
   "metadata": {
    "execution": {
     "iopub.execute_input": "2022-08-09T18:59:39.131103Z",
     "iopub.status.busy": "2022-08-09T18:59:39.130651Z",
     "iopub.status.idle": "2022-08-09T18:59:39.148589Z",
     "shell.execute_reply": "2022-08-09T18:59:39.147661Z",
     "shell.execute_reply.started": "2022-08-09T18:59:39.131066Z"
    }
   },
   "outputs": [],
   "source": [
    "# loading dataset\n",
    "df = pd.read_csv('Datasets/customer_transaction.csv')"
   ]
  },
  {
   "cell_type": "code",
   "execution_count": 29,
   "metadata": {
    "execution": {
     "iopub.execute_input": "2022-08-09T18:33:20.070946Z",
     "iopub.status.busy": "2022-08-09T18:33:20.070275Z",
     "iopub.status.idle": "2022-08-09T18:33:20.092204Z",
     "shell.execute_reply": "2022-08-09T18:33:20.091038Z",
     "shell.execute_reply.started": "2022-08-09T18:33:20.070911Z"
    }
   },
   "outputs": [
    {
     "data": {
      "text/html": [
       "<div>\n",
       "<style scoped>\n",
       "    .dataframe tbody tr th:only-of-type {\n",
       "        vertical-align: middle;\n",
       "    }\n",
       "\n",
       "    .dataframe tbody tr th {\n",
       "        vertical-align: top;\n",
       "    }\n",
       "\n",
       "    .dataframe thead th {\n",
       "        text-align: right;\n",
       "    }\n",
       "</style>\n",
       "<table border=\"1\" class=\"dataframe\">\n",
       "  <thead>\n",
       "    <tr style=\"text-align: right;\">\n",
       "      <th></th>\n",
       "      <th>TRANSACTION_ID</th>\n",
       "      <th>TX_DATETIME</th>\n",
       "      <th>CUSTOMER_ID</th>\n",
       "      <th>TERMINAL_ID</th>\n",
       "      <th>TX_AMOUNT</th>\n",
       "      <th>TX_FRAUD</th>\n",
       "    </tr>\n",
       "  </thead>\n",
       "  <tbody>\n",
       "    <tr>\n",
       "      <th>0</th>\n",
       "      <td>1744506</td>\n",
       "      <td>9/30/2018 0:00</td>\n",
       "      <td>4423</td>\n",
       "      <td>7637</td>\n",
       "      <td>12.29</td>\n",
       "      <td>0</td>\n",
       "    </tr>\n",
       "    <tr>\n",
       "      <th>1</th>\n",
       "      <td>1744507</td>\n",
       "      <td>9/30/2018 0:00</td>\n",
       "      <td>3680</td>\n",
       "      <td>5369</td>\n",
       "      <td>222.32</td>\n",
       "      <td>1</td>\n",
       "    </tr>\n",
       "    <tr>\n",
       "      <th>2</th>\n",
       "      <td>1744508</td>\n",
       "      <td>9/30/2018 0:00</td>\n",
       "      <td>3255</td>\n",
       "      <td>1246</td>\n",
       "      <td>8.79</td>\n",
       "      <td>0</td>\n",
       "    </tr>\n",
       "    <tr>\n",
       "      <th>3</th>\n",
       "      <td>1744509</td>\n",
       "      <td>9/30/2018 0:01</td>\n",
       "      <td>1353</td>\n",
       "      <td>8423</td>\n",
       "      <td>33.77</td>\n",
       "      <td>0</td>\n",
       "    </tr>\n",
       "    <tr>\n",
       "      <th>4</th>\n",
       "      <td>1744510</td>\n",
       "      <td>9/30/2018 0:02</td>\n",
       "      <td>1231</td>\n",
       "      <td>1382</td>\n",
       "      <td>60.86</td>\n",
       "      <td>0</td>\n",
       "    </tr>\n",
       "  </tbody>\n",
       "</table>\n",
       "</div>"
      ],
      "text/plain": [
       "   TRANSACTION_ID     TX_DATETIME  CUSTOMER_ID  TERMINAL_ID  TX_AMOUNT  TX_FRAUD\n",
       "0         1744506  9/30/2018 0:00         4423         7637      12.29         0\n",
       "1         1744507  9/30/2018 0:00         3680         5369     222.32         1\n",
       "2         1744508  9/30/2018 0:00         3255         1246       8.79         0\n",
       "3         1744509  9/30/2018 0:01         1353         8423      33.77         0\n",
       "4         1744510  9/30/2018 0:02         1231         1382      60.86         0"
      ]
     },
     "execution_count": 29,
     "metadata": {},
     "output_type": "execute_result"
    }
   ],
   "source": [
    "# returns the first five rows\n",
    "df.head()"
   ]
  },
  {
   "cell_type": "code",
   "execution_count": 30,
   "metadata": {
    "execution": {
     "iopub.execute_input": "2022-08-09T18:33:20.094975Z",
     "iopub.status.busy": "2022-08-09T18:33:20.094141Z",
     "iopub.status.idle": "2022-08-09T18:33:20.101647Z",
     "shell.execute_reply": "2022-08-09T18:33:20.100868Z",
     "shell.execute_reply.started": "2022-08-09T18:33:20.094930Z"
    }
   },
   "outputs": [
    {
     "data": {
      "text/plain": [
       "(9649, 6)"
      ]
     },
     "execution_count": 30,
     "metadata": {},
     "output_type": "execute_result"
    }
   ],
   "source": [
    "# return a tuple representing the dimensionality of the datasets\n",
    "df.shape"
   ]
  },
  {
   "cell_type": "code",
   "execution_count": 31,
   "metadata": {},
   "outputs": [
    {
     "data": {
      "text/plain": [
       "TRANSACTION_ID    9649\n",
       "TX_DATETIME       1384\n",
       "CUSTOMER_ID       3705\n",
       "TERMINAL_ID       6073\n",
       "TX_AMOUNT         6679\n",
       "TX_FRAUD             2\n",
       "dtype: int64"
      ]
     },
     "execution_count": 31,
     "metadata": {},
     "output_type": "execute_result"
    }
   ],
   "source": [
    "# Count number of distinct elements in specified axis\n",
    "df.nunique()"
   ]
  },
  {
   "cell_type": "code",
   "execution_count": 32,
   "metadata": {
    "execution": {
     "iopub.execute_input": "2022-08-09T18:33:20.120584Z",
     "iopub.status.busy": "2022-08-09T18:33:20.120170Z",
     "iopub.status.idle": "2022-08-09T18:33:20.143792Z",
     "shell.execute_reply": "2022-08-09T18:33:20.142520Z",
     "shell.execute_reply.started": "2022-08-09T18:33:20.120549Z"
    }
   },
   "outputs": [
    {
     "name": "stdout",
     "output_type": "stream",
     "text": [
      "<class 'pandas.core.frame.DataFrame'>\n",
      "RangeIndex: 9649 entries, 0 to 9648\n",
      "Data columns (total 6 columns):\n",
      " #   Column          Non-Null Count  Dtype  \n",
      "---  ------          --------------  -----  \n",
      " 0   TRANSACTION_ID  9649 non-null   int64  \n",
      " 1   TX_DATETIME     9649 non-null   object \n",
      " 2   CUSTOMER_ID     9649 non-null   int64  \n",
      " 3   TERMINAL_ID     9649 non-null   int64  \n",
      " 4   TX_AMOUNT       9649 non-null   float64\n",
      " 5   TX_FRAUD        9649 non-null   int64  \n",
      "dtypes: float64(1), int64(4), object(1)\n",
      "memory usage: 452.4+ KB\n"
     ]
    }
   ],
   "source": [
    "# print a concise summary about the dataset\n",
    "df.info()"
   ]
  },
  {
   "cell_type": "code",
   "execution_count": 33,
   "metadata": {
    "execution": {
     "iopub.execute_input": "2022-08-09T18:33:20.146140Z",
     "iopub.status.busy": "2022-08-09T18:33:20.145696Z",
     "iopub.status.idle": "2022-08-09T18:33:20.159103Z",
     "shell.execute_reply": "2022-08-09T18:33:20.157779Z",
     "shell.execute_reply.started": "2022-08-09T18:33:20.146098Z"
    }
   },
   "outputs": [
    {
     "data": {
      "text/plain": [
       "0"
      ]
     },
     "execution_count": 33,
     "metadata": {},
     "output_type": "execute_result"
    }
   ],
   "source": [
    "# return the sum of Series denoting duplicate rows.\n",
    "df.duplicated().sum()"
   ]
  },
  {
   "cell_type": "code",
   "execution_count": 34,
   "metadata": {
    "execution": {
     "iopub.execute_input": "2022-08-09T18:33:20.161455Z",
     "iopub.status.busy": "2022-08-09T18:33:20.160747Z",
     "iopub.status.idle": "2022-08-09T18:33:20.171395Z",
     "shell.execute_reply": "2022-08-09T18:33:20.170609Z",
     "shell.execute_reply.started": "2022-08-09T18:33:20.161391Z"
    }
   },
   "outputs": [
    {
     "data": {
      "text/plain": [
       "0    9569\n",
       "1      80\n",
       "Name: TX_FRAUD, dtype: int64"
      ]
     },
     "execution_count": 34,
     "metadata": {},
     "output_type": "execute_result"
    }
   ],
   "source": [
    "# return a Series containing counts of default. \n",
    "df['TX_FRAUD'].value_counts()"
   ]
  },
  {
   "cell_type": "code",
   "execution_count": 35,
   "metadata": {
    "execution": {
     "iopub.execute_input": "2022-08-09T18:33:20.173402Z",
     "iopub.status.busy": "2022-08-09T18:33:20.172628Z",
     "iopub.status.idle": "2022-08-09T18:33:20.186063Z",
     "shell.execute_reply": "2022-08-09T18:33:20.184719Z",
     "shell.execute_reply.started": "2022-08-09T18:33:20.173367Z"
    }
   },
   "outputs": [
    {
     "data": {
      "text/plain": [
       "TRANSACTION_ID    0\n",
       "TX_DATETIME       0\n",
       "CUSTOMER_ID       0\n",
       "TERMINAL_ID       0\n",
       "TX_AMOUNT         0\n",
       "TX_FRAUD          0\n",
       "dtype: int64"
      ]
     },
     "execution_count": 35,
     "metadata": {},
     "output_type": "execute_result"
    }
   ],
   "source": [
    "# return the total sum of missing values in present in the dataset \n",
    "df.isnull().sum()"
   ]
  },
  {
   "cell_type": "code",
   "execution_count": 36,
   "metadata": {
    "execution": {
     "iopub.execute_input": "2022-08-09T18:33:20.188606Z",
     "iopub.status.busy": "2022-08-09T18:33:20.188189Z",
     "iopub.status.idle": "2022-08-09T18:33:20.223645Z",
     "shell.execute_reply": "2022-08-09T18:33:20.222791Z",
     "shell.execute_reply.started": "2022-08-09T18:33:20.188573Z"
    }
   },
   "outputs": [
    {
     "data": {
      "text/html": [
       "<div>\n",
       "<style scoped>\n",
       "    .dataframe tbody tr th:only-of-type {\n",
       "        vertical-align: middle;\n",
       "    }\n",
       "\n",
       "    .dataframe tbody tr th {\n",
       "        vertical-align: top;\n",
       "    }\n",
       "\n",
       "    .dataframe thead th {\n",
       "        text-align: right;\n",
       "    }\n",
       "</style>\n",
       "<table border=\"1\" class=\"dataframe\">\n",
       "  <thead>\n",
       "    <tr style=\"text-align: right;\">\n",
       "      <th></th>\n",
       "      <th>TRANSACTION_ID</th>\n",
       "      <th>CUSTOMER_ID</th>\n",
       "      <th>TERMINAL_ID</th>\n",
       "      <th>TX_AMOUNT</th>\n",
       "      <th>TX_FRAUD</th>\n",
       "    </tr>\n",
       "  </thead>\n",
       "  <tbody>\n",
       "    <tr>\n",
       "      <th>count</th>\n",
       "      <td>9.649000e+03</td>\n",
       "      <td>9649.000000</td>\n",
       "      <td>9649.000000</td>\n",
       "      <td>9649.000000</td>\n",
       "      <td>9649.000000</td>\n",
       "    </tr>\n",
       "    <tr>\n",
       "      <th>mean</th>\n",
       "      <td>1.749330e+06</td>\n",
       "      <td>2488.178982</td>\n",
       "      <td>4992.228003</td>\n",
       "      <td>53.479106</td>\n",
       "      <td>0.008291</td>\n",
       "    </tr>\n",
       "    <tr>\n",
       "      <th>std</th>\n",
       "      <td>2.785571e+03</td>\n",
       "      <td>1448.295221</td>\n",
       "      <td>2880.338647</td>\n",
       "      <td>42.517344</td>\n",
       "      <td>0.090681</td>\n",
       "    </tr>\n",
       "    <tr>\n",
       "      <th>min</th>\n",
       "      <td>1.744506e+06</td>\n",
       "      <td>0.000000</td>\n",
       "      <td>0.000000</td>\n",
       "      <td>0.000000</td>\n",
       "      <td>0.000000</td>\n",
       "    </tr>\n",
       "    <tr>\n",
       "      <th>25%</th>\n",
       "      <td>1.746918e+06</td>\n",
       "      <td>1235.000000</td>\n",
       "      <td>2536.000000</td>\n",
       "      <td>20.540000</td>\n",
       "      <td>0.000000</td>\n",
       "    </tr>\n",
       "    <tr>\n",
       "      <th>50%</th>\n",
       "      <td>1.749330e+06</td>\n",
       "      <td>2478.000000</td>\n",
       "      <td>4953.000000</td>\n",
       "      <td>44.180000</td>\n",
       "      <td>0.000000</td>\n",
       "    </tr>\n",
       "    <tr>\n",
       "      <th>75%</th>\n",
       "      <td>1.751742e+06</td>\n",
       "      <td>3746.000000</td>\n",
       "      <td>7484.000000</td>\n",
       "      <td>76.660000</td>\n",
       "      <td>0.000000</td>\n",
       "    </tr>\n",
       "    <tr>\n",
       "      <th>max</th>\n",
       "      <td>1.754154e+06</td>\n",
       "      <td>4999.000000</td>\n",
       "      <td>9999.000000</td>\n",
       "      <td>699.300000</td>\n",
       "      <td>1.000000</td>\n",
       "    </tr>\n",
       "  </tbody>\n",
       "</table>\n",
       "</div>"
      ],
      "text/plain": [
       "       TRANSACTION_ID  CUSTOMER_ID  TERMINAL_ID    TX_AMOUNT     TX_FRAUD\n",
       "count    9.649000e+03  9649.000000  9649.000000  9649.000000  9649.000000\n",
       "mean     1.749330e+06  2488.178982  4992.228003    53.479106     0.008291\n",
       "std      2.785571e+03  1448.295221  2880.338647    42.517344     0.090681\n",
       "min      1.744506e+06     0.000000     0.000000     0.000000     0.000000\n",
       "25%      1.746918e+06  1235.000000  2536.000000    20.540000     0.000000\n",
       "50%      1.749330e+06  2478.000000  4953.000000    44.180000     0.000000\n",
       "75%      1.751742e+06  3746.000000  7484.000000    76.660000     0.000000\n",
       "max      1.754154e+06  4999.000000  9999.000000   699.300000     1.000000"
      ]
     },
     "execution_count": 36,
     "metadata": {},
     "output_type": "execute_result"
    }
   ],
   "source": [
    "# generate descriptive statistics of the dataset.\n",
    "df.describe()"
   ]
  },
  {
   "cell_type": "code",
   "execution_count": 37,
   "metadata": {
    "execution": {
     "iopub.execute_input": "2022-08-09T18:33:20.226375Z",
     "iopub.status.busy": "2022-08-09T18:33:20.225130Z",
     "iopub.status.idle": "2022-08-09T18:33:20.246579Z",
     "shell.execute_reply": "2022-08-09T18:33:20.245509Z",
     "shell.execute_reply.started": "2022-08-09T18:33:20.226312Z"
    }
   },
   "outputs": [
    {
     "data": {
      "text/html": [
       "<div>\n",
       "<style scoped>\n",
       "    .dataframe tbody tr th:only-of-type {\n",
       "        vertical-align: middle;\n",
       "    }\n",
       "\n",
       "    .dataframe tbody tr th {\n",
       "        vertical-align: top;\n",
       "    }\n",
       "\n",
       "    .dataframe thead th {\n",
       "        text-align: right;\n",
       "    }\n",
       "</style>\n",
       "<table border=\"1\" class=\"dataframe\">\n",
       "  <thead>\n",
       "    <tr style=\"text-align: right;\">\n",
       "      <th></th>\n",
       "      <th>TRANSACTION_ID</th>\n",
       "      <th>CUSTOMER_ID</th>\n",
       "      <th>TERMINAL_ID</th>\n",
       "      <th>TX_AMOUNT</th>\n",
       "      <th>TX_FRAUD</th>\n",
       "    </tr>\n",
       "  </thead>\n",
       "  <tbody>\n",
       "    <tr>\n",
       "      <th>TRANSACTION_ID</th>\n",
       "      <td>1.000000</td>\n",
       "      <td>-0.000947</td>\n",
       "      <td>0.007677</td>\n",
       "      <td>-0.025497</td>\n",
       "      <td>-0.005263</td>\n",
       "    </tr>\n",
       "    <tr>\n",
       "      <th>CUSTOMER_ID</th>\n",
       "      <td>-0.000947</td>\n",
       "      <td>1.000000</td>\n",
       "      <td>-0.004250</td>\n",
       "      <td>0.011544</td>\n",
       "      <td>0.006833</td>\n",
       "    </tr>\n",
       "    <tr>\n",
       "      <th>TERMINAL_ID</th>\n",
       "      <td>0.007677</td>\n",
       "      <td>-0.004250</td>\n",
       "      <td>1.000000</td>\n",
       "      <td>0.011074</td>\n",
       "      <td>0.003869</td>\n",
       "    </tr>\n",
       "    <tr>\n",
       "      <th>TX_AMOUNT</th>\n",
       "      <td>-0.025497</td>\n",
       "      <td>0.011544</td>\n",
       "      <td>0.011074</td>\n",
       "      <td>1.000000</td>\n",
       "      <td>0.177885</td>\n",
       "    </tr>\n",
       "    <tr>\n",
       "      <th>TX_FRAUD</th>\n",
       "      <td>-0.005263</td>\n",
       "      <td>0.006833</td>\n",
       "      <td>0.003869</td>\n",
       "      <td>0.177885</td>\n",
       "      <td>1.000000</td>\n",
       "    </tr>\n",
       "  </tbody>\n",
       "</table>\n",
       "</div>"
      ],
      "text/plain": [
       "                TRANSACTION_ID  CUSTOMER_ID  TERMINAL_ID  TX_AMOUNT  TX_FRAUD\n",
       "TRANSACTION_ID        1.000000    -0.000947     0.007677  -0.025497 -0.005263\n",
       "CUSTOMER_ID          -0.000947     1.000000    -0.004250   0.011544  0.006833\n",
       "TERMINAL_ID           0.007677    -0.004250     1.000000   0.011074  0.003869\n",
       "TX_AMOUNT            -0.025497     0.011544     0.011074   1.000000  0.177885\n",
       "TX_FRAUD             -0.005263     0.006833     0.003869   0.177885  1.000000"
      ]
     },
     "execution_count": 37,
     "metadata": {},
     "output_type": "execute_result"
    }
   ],
   "source": [
    "# checking relationship i.e correlation of variable in the dataset\n",
    "corr = df.corr()\n",
    "corr"
   ]
  },
  {
   "cell_type": "code",
   "execution_count": 38,
   "metadata": {
    "execution": {
     "iopub.execute_input": "2022-08-09T18:33:20.248525Z",
     "iopub.status.busy": "2022-08-09T18:33:20.248138Z",
     "iopub.status.idle": "2022-08-09T18:33:20.602815Z",
     "shell.execute_reply": "2022-08-09T18:33:20.601679Z",
     "shell.execute_reply.started": "2022-08-09T18:33:20.248490Z"
    }
   },
   "outputs": [
    {
     "data": {
      "image/png": "[encoded data removed]",
      "text/plain": [
       "<Figure size 640x480 with 2 Axes>"
      ]
     },
     "metadata": {},
     "output_type": "display_data"
    }
   ],
   "source": [
    "# checking correlation in heatmap\n",
    "sns.heatmap(corr, cmap='coolwarm', annot=True)\n",
    "plt.show()"
   ]
  },
  {
   "cell_type": "markdown",
   "metadata": {},
   "source": [
    "**Data visualization is the graphical representation of information and data.**"
   ]
  },
  {
   "cell_type": "code",
   "execution_count": 39,
   "metadata": {
    "execution": {
     "iopub.execute_input": "2022-08-09T18:33:20.604532Z",
     "iopub.status.busy": "2022-08-09T18:33:20.604143Z",
     "iopub.status.idle": "2022-08-09T18:33:20.879422Z",
     "shell.execute_reply": "2022-08-09T18:33:20.878297Z",
     "shell.execute_reply.started": "2022-08-09T18:33:20.604500Z"
    }
   },
   "outputs": [
    {
     "data": {
      "image/png": "[encoded data removed]",
      "text/plain": [
       "<Figure size 640x480 with 1 Axes>"
      ]
     },
     "metadata": {},
     "output_type": "display_data"
    }
   ],
   "source": [
    "# view the distribution of Age\n",
    "plt.title('view the distribution of Amount')\n",
    "sns.histplot(data=df, x='TX_AMOUNT', bins=30)\n",
    "plt.show()"
   ]
  },
  {
   "cell_type": "code",
   "execution_count": 40,
   "metadata": {
    "execution": {
     "iopub.execute_input": "2022-08-09T18:51:58.748822Z",
     "iopub.status.busy": "2022-08-09T18:51:58.748402Z",
     "iopub.status.idle": "2022-08-09T18:51:58.931577Z",
     "shell.execute_reply": "2022-08-09T18:51:58.930586Z",
     "shell.execute_reply.started": "2022-08-09T18:51:58.748789Z"
    }
   },
   "outputs": [
    {
     "data": {
      "image/png": "[encoded data removed]",
      "text/plain": [
       "<Figure size 640x480 with 1 Axes>"
      ]
     },
     "metadata": {},
     "output_type": "display_data"
    }
   ],
   "source": [
    "# detecting outliers using boxplot\n",
    "plt.title('detecting outliers using boxplot')\n",
    "sns.boxplot(x='TX_AMOUNT', data=df)\n",
    "plt.show()"
   ]
  },
  {
   "cell_type": "code",
   "execution_count": 41,
   "metadata": {
    "execution": {
     "iopub.execute_input": "2022-08-09T18:56:14.875498Z",
     "iopub.status.busy": "2022-08-09T18:56:14.875012Z",
     "iopub.status.idle": "2022-08-09T18:56:14.985329Z",
     "shell.execute_reply": "2022-08-09T18:56:14.984451Z",
     "shell.execute_reply.started": "2022-08-09T18:56:14.875459Z"
    }
   },
   "outputs": [
    {
     "data": {
      "image/png": "[encoded data removed]",
      "text/plain": [
       "<Figure size 640x480 with 1 Axes>"
      ]
     },
     "metadata": {},
     "output_type": "display_data"
    }
   ],
   "source": [
    "# plotting target col\n",
    "plt.title('Visualizing Target Col')\n",
    "sns.countplot(x='TX_FRAUD', data=df)\n",
    "plt.show()"
   ]
  },
  {
   "cell_type": "markdown",
   "metadata": {},
   "source": [
    "**Performing Feature Engineering**"
   ]
  },
  {
   "cell_type": "code",
   "execution_count": 42,
   "metadata": {
    "execution": {
     "iopub.execute_input": "2022-08-09T18:59:47.362830Z",
     "iopub.status.busy": "2022-08-09T18:59:47.362398Z",
     "iopub.status.idle": "2022-08-09T18:59:47.369602Z",
     "shell.execute_reply": "2022-08-09T18:59:47.368497Z",
     "shell.execute_reply.started": "2022-08-09T18:59:47.362795Z"
    }
   },
   "outputs": [],
   "source": [
    "df['TX_DATETIME'] = df['TX_DATETIME'].astype(str)"
   ]
  },
  {
   "cell_type": "code",
   "execution_count": 43,
   "metadata": {
    "execution": {
     "iopub.execute_input": "2022-08-09T19:00:20.623636Z",
     "iopub.status.busy": "2022-08-09T19:00:20.622338Z",
     "iopub.status.idle": "2022-08-09T19:00:20.674979Z",
     "shell.execute_reply": "2022-08-09T19:00:20.673826Z",
     "shell.execute_reply.started": "2022-08-09T19:00:20.623580Z"
    }
   },
   "outputs": [],
   "source": [
    "# feature engineering\n",
    "df['DATE'] = df['TX_DATETIME'].str.split('/').str[0]\n",
    "df['MONTH'] = df['TX_DATETIME'].str.split('/').str[1]\n",
    "df['YEAR'] = df['TX_DATETIME'].str.split('/').str[2]"
   ]
  },
  {
   "cell_type": "code",
   "execution_count": 44,
   "metadata": {
    "execution": {
     "iopub.execute_input": "2022-08-09T18:47:54.376243Z",
     "iopub.status.busy": "2022-08-09T18:47:54.375772Z",
     "iopub.status.idle": "2022-08-09T18:47:54.386145Z",
     "shell.execute_reply": "2022-08-09T18:47:54.385160Z",
     "shell.execute_reply.started": "2022-08-09T18:47:54.376205Z"
    }
   },
   "outputs": [],
   "source": [
    "df.drop(['TRANSACTION_ID', 'YEAR', 'TX_DATETIME'], inplace=True, axis=1)"
   ]
  },
  {
   "cell_type": "code",
   "execution_count": 45,
   "metadata": {},
   "outputs": [
    {
     "data": {
      "text/html": [
       "<div>\n",
       "<style scoped>\n",
       "    .dataframe tbody tr th:only-of-type {\n",
       "        vertical-align: middle;\n",
       "    }\n",
       "\n",
       "    .dataframe tbody tr th {\n",
       "        vertical-align: top;\n",
       "    }\n",
       "\n",
       "    .dataframe thead th {\n",
       "        text-align: right;\n",
       "    }\n",
       "</style>\n",
       "<table border=\"1\" class=\"dataframe\">\n",
       "  <thead>\n",
       "    <tr style=\"text-align: right;\">\n",
       "      <th></th>\n",
       "      <th>CUSTOMER_ID</th>\n",
       "      <th>TERMINAL_ID</th>\n",
       "      <th>TX_AMOUNT</th>\n",
       "      <th>TX_FRAUD</th>\n",
       "      <th>DATE</th>\n",
       "      <th>MONTH</th>\n",
       "    </tr>\n",
       "  </thead>\n",
       "  <tbody>\n",
       "    <tr>\n",
       "      <th>0</th>\n",
       "      <td>4423</td>\n",
       "      <td>7637</td>\n",
       "      <td>12.29</td>\n",
       "      <td>0</td>\n",
       "      <td>9</td>\n",
       "      <td>30</td>\n",
       "    </tr>\n",
       "    <tr>\n",
       "      <th>1</th>\n",
       "      <td>3680</td>\n",
       "      <td>5369</td>\n",
       "      <td>222.32</td>\n",
       "      <td>1</td>\n",
       "      <td>9</td>\n",
       "      <td>30</td>\n",
       "    </tr>\n",
       "    <tr>\n",
       "      <th>2</th>\n",
       "      <td>3255</td>\n",
       "      <td>1246</td>\n",
       "      <td>8.79</td>\n",
       "      <td>0</td>\n",
       "      <td>9</td>\n",
       "      <td>30</td>\n",
       "    </tr>\n",
       "    <tr>\n",
       "      <th>3</th>\n",
       "      <td>1353</td>\n",
       "      <td>8423</td>\n",
       "      <td>33.77</td>\n",
       "      <td>0</td>\n",
       "      <td>9</td>\n",
       "      <td>30</td>\n",
       "    </tr>\n",
       "    <tr>\n",
       "      <th>4</th>\n",
       "      <td>1231</td>\n",
       "      <td>1382</td>\n",
       "      <td>60.86</td>\n",
       "      <td>0</td>\n",
       "      <td>9</td>\n",
       "      <td>30</td>\n",
       "    </tr>\n",
       "  </tbody>\n",
       "</table>\n",
       "</div>"
      ],
      "text/plain": [
       "   CUSTOMER_ID  TERMINAL_ID  TX_AMOUNT  TX_FRAUD DATE MONTH\n",
       "0         4423         7637      12.29         0    9    30\n",
       "1         3680         5369     222.32         1    9    30\n",
       "2         3255         1246       8.79         0    9    30\n",
       "3         1353         8423      33.77         0    9    30\n",
       "4         1231         1382      60.86         0    9    30"
      ]
     },
     "execution_count": 45,
     "metadata": {},
     "output_type": "execute_result"
    }
   ],
   "source": [
    "df.head()"
   ]
  },
  {
   "cell_type": "code",
   "execution_count": 46,
   "metadata": {
    "execution": {
     "iopub.execute_input": "2022-08-09T18:33:20.952645Z",
     "iopub.status.busy": "2022-08-09T18:33:20.951826Z",
     "iopub.status.idle": "2022-08-09T18:33:20.961946Z",
     "shell.execute_reply": "2022-08-09T18:33:20.960779Z",
     "shell.execute_reply.started": "2022-08-09T18:33:20.952608Z"
    }
   },
   "outputs": [],
   "source": [
    "# assign independent variables \n",
    "x = df.drop(['TX_FRAUD'], axis=1)\n",
    "# assign dependent variable\n",
    "y = df['TX_FRAUD']"
   ]
  },
  {
   "cell_type": "markdown",
   "metadata": {},
   "source": [
    "**Splitting Dataset into Train and Test**"
   ]
  },
  {
   "cell_type": "code",
   "execution_count": 47,
   "metadata": {
    "execution": {
     "iopub.execute_input": "2022-08-09T18:33:20.964213Z",
     "iopub.status.busy": "2022-08-09T18:33:20.963206Z",
     "iopub.status.idle": "2022-08-09T18:33:20.975145Z",
     "shell.execute_reply": "2022-08-09T18:33:20.974138Z",
     "shell.execute_reply.started": "2022-08-09T18:33:20.964177Z"
    }
   },
   "outputs": [],
   "source": [
    "# Split arrays or matrices into random train and test subsets.\n",
    "x_train, x_test, y_train, y_test = train_test_split(x, y, test_size=0.33, random_state=1)"
   ]
  },
  {
   "cell_type": "code",
   "execution_count": 48,
   "metadata": {
    "execution": {
     "iopub.execute_input": "2022-08-09T18:33:20.977469Z",
     "iopub.status.busy": "2022-08-09T18:33:20.976414Z",
     "iopub.status.idle": "2022-08-09T18:33:20.983007Z",
     "shell.execute_reply": "2022-08-09T18:33:20.982007Z",
     "shell.execute_reply.started": "2022-08-09T18:33:20.977417Z"
    }
   },
   "outputs": [
    {
     "name": "stdout",
     "output_type": "stream",
     "text": [
      "(6464, 5)\n",
      "(3185, 5)\n",
      "(6464,)\n",
      "(3185,)\n"
     ]
    }
   ],
   "source": [
    "# checking the spread of data\n",
    "print(x_train.shape)\n",
    "print(x_test.shape)\n",
    "print(y_train.shape)\n",
    "print(y_test.shape)"
   ]
  },
  {
   "cell_type": "markdown",
   "metadata": {},
   "source": [
    "**Using Imblearn Library to Handle Data Imbalance present in the Dataset.**\n",
    "\n",
    "Use the Synthetic Minority Oversampling Technique (SMOTE) which is a statistical technique for increasing the number of cases in your dataset in a balanced way. To data Imbalance present in the dataset.\n",
    "\n",
    "none_fraud_transaction = 9569\n",
    "\n",
    "fraud_transaction = 80"
   ]
  },
  {
   "cell_type": "code",
   "execution_count": 49,
   "metadata": {
    "execution": {
     "iopub.execute_input": "2022-08-09T18:33:20.985021Z",
     "iopub.status.busy": "2022-08-09T18:33:20.984175Z",
     "iopub.status.idle": "2022-08-09T18:33:21.445522Z",
     "shell.execute_reply": "2022-08-09T18:33:21.442520Z",
     "shell.execute_reply.started": "2022-08-09T18:33:20.984970Z"
    }
   },
   "outputs": [
    {
     "name": "stdout",
     "output_type": "stream",
     "text": [
      "Before Sampling: Counter({0: 6409, 1: 55})\n",
      "After Sampling: Counter({1: 5748, 0: 5260})\n"
     ]
    }
   ],
   "source": [
    "# outputing y value before over sampling.\n",
    "counter = Counter(y_train)\n",
    "print(\"Before Sampling: {}\".format(counter))\n",
    "\n",
    "# Over-sampling using SMOTE and cleaning using ENN.\n",
    "sm = SMOTEENN()\n",
    "# esample the dataset.\n",
    "x_train_sm, y_train_sm = sm.fit_resample(x_train, y_train)\n",
    "\n",
    "# outputing y value after over sampling.\n",
    "counter = Counter(y_train_sm)\n",
    "print(\"After Sampling: {}\".format(counter))"
   ]
  },
  {
   "cell_type": "markdown",
   "metadata": {},
   "source": [
    "**Automatic Treatment of Outliers using LocalOutlierFactor**\n",
    "\n",
    "The anomaly score of each sample is called the Local Outlier Factor.\n",
    "It measures the local deviation of the density of a given sample with respect\n",
    "to its neighbors.."
   ]
  },
  {
   "cell_type": "code",
   "execution_count": 50,
   "metadata": {
    "execution": {
     "iopub.status.busy": "2022-08-09T18:33:21.446464Z",
     "iopub.status.idle": "2022-08-09T18:33:21.447342Z",
     "shell.execute_reply": "2022-08-09T18:33:21.447143Z",
     "shell.execute_reply.started": "2022-08-09T18:33:21.447121Z"
    }
   },
   "outputs": [],
   "source": [
    "# Unsupervised Outlier Detection using the Local Outlier Factor (LOF).\n",
    "lof = LocalOutlierFactor()\n",
    "# Returns -1 for outliers and 1 for inliers.\n",
    "pred = lof.fit_predict(x_train_sm)"
   ]
  },
  {
   "cell_type": "code",
   "execution_count": 51,
   "metadata": {
    "execution": {
     "iopub.status.busy": "2022-08-09T18:33:21.448536Z",
     "iopub.status.idle": "2022-08-09T18:33:21.449347Z",
     "shell.execute_reply": "2022-08-09T18:33:21.449157Z",
     "shell.execute_reply.started": "2022-08-09T18:33:21.449136Z"
    }
   },
   "outputs": [
    {
     "name": "stdout",
     "output_type": "stream",
     "text": [
      "(10510, 5) (10510,)\n"
     ]
    }
   ],
   "source": [
    "# select all rows that are not outliers\n",
    "mask = pred != -1\n",
    "x_train_sm, y_train_sm = x_train_sm[mask], y_train_sm[mask]\n",
    "# summarize the shape of the updated training dataset\n",
    "print(x_train_sm.shape, y_train_sm.shape)"
   ]
  },
  {
   "cell_type": "code",
   "execution_count": 52,
   "metadata": {
    "execution": {
     "iopub.status.busy": "2022-08-09T18:33:21.450576Z",
     "iopub.status.idle": "2022-08-09T18:33:21.450959Z",
     "shell.execute_reply": "2022-08-09T18:33:21.450783Z",
     "shell.execute_reply.started": "2022-08-09T18:33:21.450766Z"
    }
   },
   "outputs": [],
   "source": [
    "# Apply a power transform featurewise to make data more Gaussian-like.\n",
    "sc = StandardScaler()\n",
    "# fit on the training dataset\n",
    "sc.fit(x_train_sm)\n",
    "\n",
    "# scale the training datasets\n",
    "x_train_sm = sc.transform(x_train_sm)\n",
    "# scale the testing datasets                \n",
    "x_test = sc.transform(x_test)                                                   "
   ]
  },
  {
   "cell_type": "markdown",
   "metadata": {},
   "source": [
    "**Model Development**\n",
    "\n",
    "TensorFlow is an open-sourced end-to-end platform, a library for multiple machine learning tasks, while Keras is a high-level neural network library that runs on top of TensorFlow"
   ]
  },
  {
   "cell_type": "code",
   "execution_count": 80,
   "metadata": {
    "execution": {
     "iopub.status.busy": "2022-08-09T18:33:21.452769Z",
     "iopub.status.idle": "2022-08-09T18:33:21.453150Z",
     "shell.execute_reply": "2022-08-09T18:33:21.452983Z",
     "shell.execute_reply.started": "2022-08-09T18:33:21.452966Z"
    }
   },
   "outputs": [],
   "source": [
    "# kernel_regularizer=L1L2(l1=1e-3, l2=1e-2), bias_regularizer=L2(1e-4)\n",
    "# building keras model\n",
    "def build_model():\n",
    "    # Sequential groups a linear stack of layers\n",
    "    model = Sequential([\n",
    "        Dense(64, activation=\"relu\", input_shape=(5,)),\n",
    "        Dropout(0.2),\n",
    "        Dense(128, activation=\"relu\"),\n",
    "        Dropout(0.2),\n",
    "        Dense(256, activation=\"relu\"),\n",
    "        Dropout(0.2),\n",
    "        Dense(256, activation=\"relu\"),\n",
    "        Dropout(0.2),\n",
    "        Dense(128, activation=\"relu\"),\n",
    "        Dropout(0.2),\n",
    "        Dense(1, activation=\"sigmoid\")\n",
    "    ])\n",
    "    return model\n",
    "\n",
    "model = build_model()"
   ]
  },
  {
   "cell_type": "code",
   "execution_count": 54,
   "metadata": {
    "execution": {
     "iopub.status.busy": "2022-08-09T18:33:21.454071Z",
     "iopub.status.idle": "2022-08-09T18:33:21.454448Z",
     "shell.execute_reply": "2022-08-09T18:33:21.454265Z",
     "shell.execute_reply.started": "2022-08-09T18:33:21.454248Z"
    }
   },
   "outputs": [
    {
     "name": "stdout",
     "output_type": "stream",
     "text": [
      "Model: \"sequential\"\n",
      "_________________________________________________________________\n",
      " Layer (type)                Output Shape              Param #   \n",
      "=================================================================\n",
      " dense (Dense)               (None, 64)                384       \n",
      "                                                                 \n",
      " dense_1 (Dense)             (None, 128)               8320      \n",
      "                                                                 \n",
      " dense_2 (Dense)             (None, 256)               33024     \n",
      "                                                                 \n",
      " dense_3 (Dense)             (None, 256)               65792     \n",
      "                                                                 \n",
      " dense_4 (Dense)             (None, 128)               32896     \n",
      "                                                                 \n",
      " dense_5 (Dense)             (None, 1)                 129       \n",
      "                                                                 \n",
      "=================================================================\n",
      "Total params: 140,545\n",
      "Trainable params: 140,545\n",
      "Non-trainable params: 0\n",
      "_________________________________________________________________\n"
     ]
    }
   ],
   "source": [
    "# Prints a string summary of the network.\n",
    "model.summary()"
   ]
  },
  {
   "cell_type": "code",
   "execution_count": 81,
   "metadata": {
    "execution": {
     "iopub.status.busy": "2022-08-09T18:33:21.456235Z",
     "iopub.status.idle": "2022-08-09T18:33:21.457001Z",
     "shell.execute_reply": "2022-08-09T18:33:21.456768Z",
     "shell.execute_reply.started": "2022-08-09T18:33:21.456732Z"
    }
   },
   "outputs": [],
   "source": [
    "# Configures the model for training.\n",
    "model.compile(\n",
    "    # Gradient descent (with momentum) optimizer.\n",
    "    optimizer=SGD(learning_rate=0.001, momentum=0.9),\n",
    "    # Computes the cross-entropy loss between true labels and predicted labels.\n",
    "    loss=BinaryCrossentropy(),\n",
    "    # Calculates how often predictions match binary labels.\n",
    "    metrics=[BinaryAccuracy()])"
   ]
  },
  {
   "cell_type": "code",
   "execution_count": 82,
   "metadata": {
    "execution": {
     "iopub.status.busy": "2022-08-09T18:33:21.458417Z",
     "iopub.status.idle": "2022-08-09T18:33:21.458864Z",
     "shell.execute_reply": "2022-08-09T18:33:21.458685Z",
     "shell.execute_reply.started": "2022-08-09T18:33:21.458665Z"
    }
   },
   "outputs": [],
   "source": [
    "# model improving.\n",
    "call_back = [\n",
    "    # Callback to save the Keras model or model weights at some frequency.\n",
    "    ModelCheckpoint(filepath=\"./\", monitor=\"val_loss\", save_best_only=True, save_weights_only=True, mode=\"max\"),\n",
    "    # TensorBoard is a visualization tool provided with TensorFlow.\n",
    "    TensorBoard(log_dir='./logs', update_freq=1),\n",
    "    # Stop training when a monitored metric has stopped improving.\n",
    "    EarlyStopping(monitor='val_loss', patience=20, mode='min', restore_best_weights=True)\n",
    "]"
   ]
  },
  {
   "cell_type": "code",
   "execution_count": 83,
   "metadata": {
    "execution": {
     "iopub.status.busy": "2022-08-09T18:33:21.461404Z",
     "iopub.status.idle": "2022-08-09T18:33:21.461870Z",
     "shell.execute_reply": "2022-08-09T18:33:21.461677Z",
     "shell.execute_reply.started": "2022-08-09T18:33:21.461657Z"
    }
   },
   "outputs": [
    {
     "name": "stdout",
     "output_type": "stream",
     "text": [
      "Epoch 1/50\n",
      "  6/165 [>.............................] - ETA: 6s - loss: 0.7004 - binary_accuracy: 0.5052 WARNING:tensorflow:Callback method `on_train_batch_end` is slow compared to the batch time (batch time: 0.0249s vs `on_train_batch_end` time: 0.0964s). Check your callbacks.\n",
      "165/165 [==============================] - 31s 73ms/step - loss: 0.6940 - binary_accuracy: 0.5101 - val_loss: 0.7150 - val_binary_accuracy: 0.1086\n",
      "Epoch 2/50\n",
      "165/165 [==============================] - 6s 38ms/step - loss: 0.6810 - binary_accuracy: 0.5576 - val_loss: 0.7256 - val_binary_accuracy: 0.1278\n",
      "Epoch 3/50\n",
      "165/165 [==============================] - 5s 29ms/step - loss: 0.6675 - binary_accuracy: 0.5637 - val_loss: 0.7096 - val_binary_accuracy: 0.3881\n",
      "Epoch 4/50\n",
      "165/165 [==============================] - 4s 24ms/step - loss: 0.6451 - binary_accuracy: 0.6172 - val_loss: 0.6717 - val_binary_accuracy: 0.6882\n",
      "Epoch 5/50\n",
      "165/165 [==============================] - 3s 18ms/step - loss: 0.6144 - binary_accuracy: 0.6487 - val_loss: 0.6213 - val_binary_accuracy: 0.7934\n",
      "Epoch 6/50\n",
      "165/165 [==============================] - 3s 20ms/step - loss: 0.5891 - binary_accuracy: 0.6601 - val_loss: 0.5774 - val_binary_accuracy: 0.8204\n",
      "Epoch 7/50\n",
      "165/165 [==============================] - 3s 19ms/step - loss: 0.5747 - binary_accuracy: 0.6708 - val_loss: 0.5581 - val_binary_accuracy: 0.8242\n",
      "Epoch 8/50\n",
      "165/165 [==============================] - 3s 18ms/step - loss: 0.5687 - binary_accuracy: 0.6786 - val_loss: 0.5631 - val_binary_accuracy: 0.8107\n",
      "Epoch 9/50\n",
      "165/165 [==============================] - 3s 20ms/step - loss: 0.5644 - binary_accuracy: 0.6812 - val_loss: 0.5421 - val_binary_accuracy: 0.8273\n",
      "Epoch 10/50\n",
      "165/165 [==============================] - 3s 18ms/step - loss: 0.5603 - binary_accuracy: 0.6854 - val_loss: 0.5423 - val_binary_accuracy: 0.8185\n",
      "Epoch 11/50\n",
      "165/165 [==============================] - 3s 19ms/step - loss: 0.5565 - binary_accuracy: 0.6914 - val_loss: 0.5414 - val_binary_accuracy: 0.8192\n",
      "Epoch 12/50\n",
      "165/165 [==============================] - 3s 17ms/step - loss: 0.5552 - binary_accuracy: 0.6929 - val_loss: 0.5329 - val_binary_accuracy: 0.8257\n",
      "Epoch 13/50\n",
      "165/165 [==============================] - 3s 19ms/step - loss: 0.5536 - binary_accuracy: 0.6947 - val_loss: 0.5321 - val_binary_accuracy: 0.8261\n",
      "Epoch 14/50\n",
      "165/165 [==============================] - 3s 17ms/step - loss: 0.5514 - binary_accuracy: 0.6988 - val_loss: 0.5348 - val_binary_accuracy: 0.8242\n",
      "Epoch 15/50\n",
      "165/165 [==============================] - 3s 19ms/step - loss: 0.5470 - binary_accuracy: 0.7021 - val_loss: 0.5185 - val_binary_accuracy: 0.8352\n",
      "Epoch 16/50\n",
      "165/165 [==============================] - 4s 24ms/step - loss: 0.5473 - binary_accuracy: 0.7003 - val_loss: 0.5225 - val_binary_accuracy: 0.8311\n",
      "Epoch 17/50\n",
      "165/165 [==============================] - 3s 18ms/step - loss: 0.5441 - binary_accuracy: 0.7047 - val_loss: 0.5278 - val_binary_accuracy: 0.8301\n",
      "Epoch 18/50\n",
      "165/165 [==============================] - 3s 17ms/step - loss: 0.5415 - binary_accuracy: 0.7094 - val_loss: 0.5263 - val_binary_accuracy: 0.8323\n",
      "Epoch 19/50\n",
      "165/165 [==============================] - 3s 17ms/step - loss: 0.5397 - binary_accuracy: 0.7029 - val_loss: 0.5156 - val_binary_accuracy: 0.8392\n",
      "Epoch 20/50\n",
      "165/165 [==============================] - 4s 22ms/step - loss: 0.5356 - binary_accuracy: 0.7106 - val_loss: 0.5205 - val_binary_accuracy: 0.8370\n",
      "Epoch 21/50\n",
      "165/165 [==============================] - 3s 18ms/step - loss: 0.5359 - binary_accuracy: 0.7088 - val_loss: 0.5082 - val_binary_accuracy: 0.8440\n",
      "Epoch 22/50\n",
      "165/165 [==============================] - 3s 18ms/step - loss: 0.5355 - binary_accuracy: 0.7101 - val_loss: 0.5258 - val_binary_accuracy: 0.8339\n",
      "Epoch 23/50\n",
      "165/165 [==============================] - 3s 17ms/step - loss: 0.5311 - binary_accuracy: 0.7117 - val_loss: 0.5364 - val_binary_accuracy: 0.8254\n",
      "Epoch 24/50\n",
      "165/165 [==============================] - 3s 18ms/step - loss: 0.5304 - binary_accuracy: 0.7121 - val_loss: 0.5205 - val_binary_accuracy: 0.8374\n",
      "Epoch 25/50\n",
      "165/165 [==============================] - 3s 19ms/step - loss: 0.5261 - binary_accuracy: 0.7139 - val_loss: 0.5390 - val_binary_accuracy: 0.8235\n",
      "Epoch 26/50\n",
      "165/165 [==============================] - 4s 22ms/step - loss: 0.5203 - binary_accuracy: 0.7156 - val_loss: 0.5116 - val_binary_accuracy: 0.8383\n",
      "Epoch 27/50\n",
      "165/165 [==============================] - 10s 61ms/step - loss: 0.5236 - binary_accuracy: 0.7202 - val_loss: 0.5229 - val_binary_accuracy: 0.8286\n",
      "Epoch 28/50\n",
      "165/165 [==============================] - 6s 34ms/step - loss: 0.5191 - binary_accuracy: 0.7188 - val_loss: 0.5105 - val_binary_accuracy: 0.8361\n",
      "Epoch 29/50\n",
      "165/165 [==============================] - 4s 22ms/step - loss: 0.5143 - binary_accuracy: 0.7254 - val_loss: 0.5222 - val_binary_accuracy: 0.8229\n",
      "Epoch 30/50\n",
      "165/165 [==============================] - 3s 15ms/step - loss: 0.5170 - binary_accuracy: 0.7196 - val_loss: 0.5217 - val_binary_accuracy: 0.8182\n",
      "Epoch 31/50\n",
      "165/165 [==============================] - 3s 18ms/step - loss: 0.5088 - binary_accuracy: 0.7243 - val_loss: 0.5096 - val_binary_accuracy: 0.8204\n",
      "Epoch 32/50\n",
      "165/165 [==============================] - 3s 20ms/step - loss: 0.5094 - binary_accuracy: 0.7291 - val_loss: 0.5318 - val_binary_accuracy: 0.7969\n",
      "Epoch 33/50\n",
      "165/165 [==============================] - 4s 23ms/step - loss: 0.5042 - binary_accuracy: 0.7289 - val_loss: 0.5111 - val_binary_accuracy: 0.8075\n",
      "Epoch 34/50\n",
      "165/165 [==============================] - 3s 16ms/step - loss: 0.5065 - binary_accuracy: 0.7279 - val_loss: 0.5419 - val_binary_accuracy: 0.7837\n",
      "Epoch 35/50\n",
      "165/165 [==============================] - 3s 16ms/step - loss: 0.5011 - binary_accuracy: 0.7317 - val_loss: 0.5138 - val_binary_accuracy: 0.8013\n",
      "Epoch 36/50\n",
      "165/165 [==============================] - 3s 16ms/step - loss: 0.5021 - binary_accuracy: 0.7345 - val_loss: 0.5303 - val_binary_accuracy: 0.7777\n",
      "Epoch 37/50\n",
      "165/165 [==============================] - 4s 24ms/step - loss: 0.4967 - binary_accuracy: 0.7350 - val_loss: 0.5354 - val_binary_accuracy: 0.7670\n",
      "Epoch 38/50\n",
      "165/165 [==============================] - 4s 25ms/step - loss: 0.4960 - binary_accuracy: 0.7357 - val_loss: 0.5197 - val_binary_accuracy: 0.7733\n",
      "Epoch 39/50\n",
      "165/165 [==============================] - 4s 22ms/step - loss: 0.4904 - binary_accuracy: 0.7422 - val_loss: 0.4932 - val_binary_accuracy: 0.7915\n",
      "Epoch 40/50\n",
      "165/165 [==============================] - 3s 16ms/step - loss: 0.4869 - binary_accuracy: 0.7453 - val_loss: 0.5252 - val_binary_accuracy: 0.7551\n",
      "Epoch 41/50\n",
      "165/165 [==============================] - 2s 15ms/step - loss: 0.4868 - binary_accuracy: 0.7433 - val_loss: 0.5386 - val_binary_accuracy: 0.7347\n",
      "Epoch 42/50\n",
      "165/165 [==============================] - 3s 18ms/step - loss: 0.4844 - binary_accuracy: 0.7402 - val_loss: 0.5372 - val_binary_accuracy: 0.7228\n",
      "Epoch 43/50\n",
      "165/165 [==============================] - 3s 19ms/step - loss: 0.4797 - binary_accuracy: 0.7499 - val_loss: 0.5482 - val_binary_accuracy: 0.7149\n",
      "Epoch 44/50\n",
      "165/165 [==============================] - 3s 20ms/step - loss: 0.4793 - binary_accuracy: 0.7514 - val_loss: 0.5353 - val_binary_accuracy: 0.7284\n",
      "Epoch 45/50\n",
      "165/165 [==============================] - 3s 17ms/step - loss: 0.4776 - binary_accuracy: 0.7512 - val_loss: 0.5446 - val_binary_accuracy: 0.7155\n",
      "Epoch 46/50\n",
      "165/165 [==============================] - 3s 20ms/step - loss: 0.4754 - binary_accuracy: 0.7539 - val_loss: 0.5264 - val_binary_accuracy: 0.7221\n",
      "Epoch 47/50\n",
      "165/165 [==============================] - 3s 20ms/step - loss: 0.4774 - binary_accuracy: 0.7559 - val_loss: 0.5372 - val_binary_accuracy: 0.7146\n",
      "Epoch 48/50\n",
      "165/165 [==============================] - 3s 18ms/step - loss: 0.4672 - binary_accuracy: 0.7648 - val_loss: 0.5373 - val_binary_accuracy: 0.7102\n",
      "Epoch 49/50\n",
      "165/165 [==============================] - 3s 18ms/step - loss: 0.4688 - binary_accuracy: 0.7624 - val_loss: 0.5242 - val_binary_accuracy: 0.7193\n",
      "Epoch 50/50\n",
      "165/165 [==============================] - 3s 20ms/step - loss: 0.4674 - binary_accuracy: 0.7608 - val_loss: 0.5872 - val_binary_accuracy: 0.6719\n",
      "INFO:tensorflow:Assets written to: C:\\Users\\USER\\AppData\\Local\\Temp\\tmprgri0_b5\\model\\data\\model\\assets\n"
     ]
    },
    {
     "name": "stdout",
     "output_type": "stream",
     "text": [
      "100/100 [==============================] - 1s 5ms/step\n",
      "Train Accuracy: 79.87\n",
      "Test Accuracy: 67.19\n"
     ]
    }
   ],
   "source": [
    "# Set the given experiment as the active experiment. \n",
    "mlflow.set_experiment(\"Customer Churn Prediction\")\n",
    "\n",
    "# Start a new MLflow run\n",
    "with mlflow.start_run(): \n",
    "    # Enables automatic logging\n",
    "    autolog()\n",
    "    \n",
    "    # Trains the model for a fixed number of epochs (iterations on a dataset).\n",
    "    history = model.fit(x_train_sm, y_train_sm, batch_size=64, epochs=50, callbacks=call_back, validation_data=(x_test, y_test))\n",
    "    \n",
    "    # Saves a model as a TensorFlow SavedModel or HDF5 file.\n",
    "    save_model(model, filepath=\"model.h5\")\n",
    "    \n",
    "    # Loads a model saved\n",
    "    loaded_model = load_model(filepath=\"model.h5\")\n",
    "\n",
    "    # Generates output predictions for the x_test input sample.\n",
    "    pred = loaded_model.predict(x_test)\n",
    "    \n",
    "    # Returns the loss value & metrics values for the model in test mode.\n",
    "    _, acc = loaded_model.evaluate(x_train_sm, y_train_sm, batch_size=128, verbose=0)\n",
    "    print(\"Train Accuracy: {:.2f}\".format(acc*100))\n",
    "\n",
    "    # Returns the loss value & metrics values for the model in test mode.\n",
    "    _, acc = loaded_model.evaluate(x_test, y_test, batch_size=128, verbose=0)\n",
    "    print(\"Test Accuracy: {:.2f}\".format(acc*100))\n",
    "    \n",
    "    metric = {\n",
    "        \"Training Accuracy\": acc,\n",
    "        \"Testing Accuracy\": acc\n",
    "    }\n",
    "    # Log multiple metrics for the current run\n",
    "    log_metrics(metric)\n",
    "    \n",
    "# End an active MLflow run\n",
    "mlflow.end_run()"
   ]
  },
  {
   "cell_type": "code",
   "execution_count": 84,
   "metadata": {
    "execution": {
     "iopub.status.busy": "2022-08-09T18:33:21.463921Z",
     "iopub.status.idle": "2022-08-09T18:33:21.464335Z",
     "shell.execute_reply": "2022-08-09T18:33:21.464152Z",
     "shell.execute_reply.started": "2022-08-09T18:33:21.464132Z"
    }
   },
   "outputs": [],
   "source": [
    "y_hat = [1 if i > 0.5 else 0 for i in pred]"
   ]
  },
  {
   "cell_type": "code",
   "execution_count": 85,
   "metadata": {
    "execution": {
     "iopub.status.busy": "2022-08-09T18:33:21.465683Z",
     "iopub.status.idle": "2022-08-09T18:33:21.466099Z",
     "shell.execute_reply": "2022-08-09T18:33:21.465915Z",
     "shell.execute_reply.started": "2022-08-09T18:33:21.465896Z"
    }
   },
   "outputs": [
    {
     "name": "stdout",
     "output_type": "stream",
     "text": [
      "              precision    recall  f1-score   support\n",
      "\n",
      "           0       0.99      0.67      0.80      3160\n",
      "           1       0.01      0.56      0.03        25\n",
      "\n",
      "    accuracy                           0.67      3185\n",
      "   macro avg       0.50      0.62      0.41      3185\n",
      "weighted avg       0.99      0.67      0.80      3185\n",
      "\n"
     ]
    }
   ],
   "source": [
    "# Build a text report showing the main classification metrics.\n",
    "print(classification_report(y_test, y_hat))"
   ]
  },
  {
   "cell_type": "code",
   "execution_count": 86,
   "metadata": {
    "execution": {
     "iopub.status.busy": "2022-08-09T18:33:21.467326Z",
     "iopub.status.idle": "2022-08-09T18:33:21.467766Z",
     "shell.execute_reply": "2022-08-09T18:33:21.467570Z",
     "shell.execute_reply.started": "2022-08-09T18:33:21.467551Z"
    }
   },
   "outputs": [
    {
     "name": "stdout",
     "output_type": "stream",
     "text": [
      "             Predicted: No  Predicted: Yes\n",
      "Actual: No            2126            1034\n",
      "Actual: Yes             11              14\n"
     ]
    }
   ],
   "source": [
    "# Compute confusion matrix to evaluate the accuracy of a classification.\n",
    "con_matrix = pd.DataFrame(confusion_matrix(y_test, y_hat), \n",
    "                          index=[\"Actual: No\", \"Actual: Yes\"],\n",
    "                          columns=(\"Predicted: No\", \"Predicted: Yes\"))\n",
    "print(con_matrix)"
   ]
  },
  {
   "cell_type": "code",
   "execution_count": 87,
   "metadata": {
    "execution": {
     "iopub.status.busy": "2022-08-09T18:33:21.468963Z",
     "iopub.status.idle": "2022-08-09T18:33:21.469354Z",
     "shell.execute_reply": "2022-08-09T18:33:21.469180Z",
     "shell.execute_reply.started": "2022-08-09T18:33:21.469161Z"
    }
   },
   "outputs": [
    {
     "data": {
      "image/png": "[encoded data removed]",
      "text/plain": [
       "<Figure size 640x480 with 1 Axes>"
      ]
     },
     "metadata": {},
     "output_type": "display_data"
    },
    {
     "data": {
      "image/png": "[encoded data removed]",
      "text/plain": [
       "<Figure size 640x480 with 1 Axes>"
      ]
     },
     "metadata": {},
     "output_type": "display_data"
    }
   ],
   "source": [
    "# plotting model peformance\n",
    "def plot_graph(history, string):\n",
    "    plt.plot(history.history[string])\n",
    "    plt.plot(history.history[\"val_\"+string])\n",
    "    plt.xlabel(\"Epochs.\")\n",
    "    plt.ylabel(string)\n",
    "    plt.legend([string, \"val_\"+string])\n",
    "    plt.show()\n",
    "\n",
    "# Model Accuracy Performance \n",
    "plot_graph(history, \"binary_accuracy\")\n",
    "# Model Validation Performance\n",
    "plot_graph(history, \"loss\")"
   ]
  },
  {
   "cell_type": "markdown",
   "metadata": {},
   "source": [
    "**Using PyGad for Optimization.**\n",
    "\n",
    "1. Instantiate KerasGA\n",
    "2. Define fitness function\n",
    "3. Create Callback function\n",
    "4. Plot the result\n",
    "5. Measure the Loss and Accuracy"
   ]
  },
  {
   "cell_type": "code",
   "execution_count": 88,
   "metadata": {
    "execution": {
     "iopub.status.busy": "2022-08-09T18:33:21.481607Z",
     "iopub.status.idle": "2022-08-09T18:33:21.482022Z",
     "shell.execute_reply": "2022-08-09T18:33:21.481847Z",
     "shell.execute_reply.started": "2022-08-09T18:33:21.481827Z"
    }
   },
   "outputs": [],
   "source": [
    "# Creates an instance of the KerasGA class to build a population of model parameters.\n",
    "keras_ga = KerasGA(model=model,\n",
    "                   num_solutions=50)"
   ]
  },
  {
   "cell_type": "code",
   "execution_count": 89,
   "metadata": {
    "execution": {
     "iopub.status.busy": "2022-08-09T18:33:21.483370Z",
     "iopub.status.idle": "2022-08-09T18:33:21.483814Z",
     "shell.execute_reply": "2022-08-09T18:33:21.483638Z",
     "shell.execute_reply.started": "2022-08-09T18:33:21.483618Z"
    }
   },
   "outputs": [],
   "source": [
    "# assign x_train to data_input\n",
    "data_input = x_train_sm\n",
    "# assign y_train to data_output\n",
    "data_output = y_train_sm"
   ]
  },
  {
   "cell_type": "code",
   "execution_count": 90,
   "metadata": {
    "execution": {
     "iopub.status.busy": "2022-08-09T18:33:21.485073Z",
     "iopub.status.idle": "2022-08-09T18:33:21.485503Z",
     "shell.execute_reply": "2022-08-09T18:33:21.485293Z",
     "shell.execute_reply.started": "2022-08-09T18:33:21.485274Z"
    }
   },
   "outputs": [],
   "source": [
    "# creating fitness function.\n",
    "def fitness_func(solution, solution_idx):\n",
    "    global data_input, data_output, keras_ga, model\n",
    "    \n",
    "    # set keras model to matrix\n",
    "    model_weight_matrix = model_weights_as_matrix(model=model, weights_vector=solution)\n",
    "    \n",
    "    # sets the weights of the layer, from NumPy arrays.\n",
    "    model.set_weights(weights=model_weight_matrix)\n",
    "    \n",
    "    # Generates output predictions for the input samples\n",
    "    prediction = predict(model=model, \n",
    "                         solution=solution, \n",
    "                         data=data_input)\n",
    "    \n",
    "    # Computes the cross-entropy loss between true labels and predicted labels.\n",
    "    criterion = BinaryCrossentropy()\n",
    "    \n",
    "    solution_fitness = 1.0 / (criterion(data_output, prediction).numpy() + 0.00000001)\n",
    "    return solution_fitness"
   ]
  },
  {
   "cell_type": "code",
   "execution_count": 91,
   "metadata": {
    "execution": {
     "iopub.status.busy": "2022-08-09T18:33:21.487383Z",
     "iopub.status.idle": "2022-08-09T18:33:21.487889Z",
     "shell.execute_reply": "2022-08-09T18:33:21.487637Z",
     "shell.execute_reply.started": "2022-08-09T18:33:21.487617Z"
    }
   },
   "outputs": [],
   "source": [
    "# creating callback on_generation function\n",
    "def on_generation(ga_instance):\n",
    "    # Convert a number or string to an integer.\n",
    "    print(\"Generation: {generation}\".format(generation=ga_instance.generations_completed), end='\\n')\n",
    "    # Returns information about the best solution found by the genetic algorithm.\n",
    "    print(\"Fitness: {fitness}\".format(fitness=ga_instance.best_solution()[1]))"
   ]
  },
  {
   "cell_type": "code",
   "execution_count": 92,
   "metadata": {
    "execution": {
     "iopub.status.busy": "2022-08-09T18:33:21.490006Z",
     "iopub.status.idle": "2022-08-09T18:33:21.490377Z",
     "shell.execute_reply": "2022-08-09T18:33:21.490203Z",
     "shell.execute_reply.started": "2022-08-09T18:33:21.490186Z"
    }
   },
   "outputs": [],
   "source": [
    "# Initial population of network weights.\n",
    "initial_pol = keras_ga.population_weights"
   ]
  },
  {
   "cell_type": "code",
   "execution_count": 93,
   "metadata": {
    "execution": {
     "iopub.status.busy": "2022-08-09T18:33:21.491929Z",
     "iopub.status.idle": "2022-08-09T18:33:21.492325Z",
     "shell.execute_reply": "2022-08-09T18:33:21.492151Z",
     "shell.execute_reply.started": "2022-08-09T18:33:21.492132Z"
    }
   },
   "outputs": [],
   "source": [
    "# Instantiate GA class\n",
    "ga_instance = GA(num_generations=10,\n",
    "                 num_parents_mating=4, \n",
    "                 initial_population=initial_pol,\n",
    "                 fitness_func=fitness_func,\n",
    "                 on_generation=on_generation,\n",
    "                 parent_selection_type=\"sss\",\n",
    "                 keep_parents=1,\n",
    "                 crossover_type=\"single_point\",\n",
    "                 mutation_type=\"random\",\n",
    "                 mutation_percent_genes=10,)"
   ]
  },
  {
   "cell_type": "code",
   "execution_count": 94,
   "metadata": {
    "execution": {
     "iopub.status.busy": "2022-08-09T18:33:21.493568Z",
     "iopub.status.idle": "2022-08-09T18:33:21.493965Z",
     "shell.execute_reply": "2022-08-09T18:33:21.493789Z",
     "shell.execute_reply.started": "2022-08-09T18:33:21.493770Z"
    }
   },
   "outputs": [
    {
     "name": "stdout",
     "output_type": "stream",
     "text": [
      "329/329 [==============================] - 3s 8ms/step\n",
      "329/329 [==============================] - 18s 6ms/step\n",
      "329/329 [==============================] - 2s 6ms/step\n",
      "329/329 [==============================] - 3s 7ms/step\n",
      "329/329 [==============================] - 2s 5ms/step\n",
      "329/329 [==============================] - 2s 5ms/step\n",
      "329/329 [==============================] - 2s 6ms/step\n",
      "329/329 [==============================] - 2s 5ms/step\n",
      "329/329 [==============================] - 2s 5ms/step\n",
      "329/329 [==============================] - 2s 5ms/step\n",
      "329/329 [==============================] - 2s 5ms/step\n",
      "329/329 [==============================] - 2s 7ms/step\n",
      "329/329 [==============================] - 2s 5ms/step\n",
      "329/329 [==============================] - 2s 4ms/step\n",
      "329/329 [==============================] - 2s 4ms/step\n",
      "329/329 [==============================] - 2s 5ms/step\n",
      "329/329 [==============================] - 1s 4ms/step\n",
      "329/329 [==============================] - 2s 5ms/step\n",
      "329/329 [==============================] - 1s 4ms/step\n",
      "329/329 [==============================] - 2s 6ms/step\n",
      "329/329 [==============================] - 2s 4ms/step\n",
      "329/329 [==============================] - 2s 4ms/step\n",
      "329/329 [==============================] - 2s 4ms/step\n",
      "329/329 [==============================] - 2s 6ms/step\n",
      "329/329 [==============================] - 2s 6ms/step\n",
      "329/329 [==============================] - 2s 6ms/step\n",
      "329/329 [==============================] - 2s 7ms/step\n",
      "329/329 [==============================] - 3s 8ms/step\n",
      "329/329 [==============================] - 2s 6ms/step\n",
      "329/329 [==============================] - 2s 6ms/step\n",
      "329/329 [==============================] - 2s 6ms/step\n",
      "329/329 [==============================] - 2s 5ms/step\n",
      "329/329 [==============================] - 2s 7ms/step\n",
      "329/329 [==============================] - 2s 4ms/step\n",
      "329/329 [==============================] - 2s 5ms/step\n",
      "329/329 [==============================] - 2s 5ms/step\n",
      "329/329 [==============================] - 2s 5ms/step\n",
      "329/329 [==============================] - 2s 5ms/step\n",
      "329/329 [==============================] - 2s 5ms/step\n",
      "329/329 [==============================] - 2s 5ms/step\n",
      "329/329 [==============================] - 2s 5ms/step\n",
      "329/329 [==============================] - 2s 5ms/step\n",
      "329/329 [==============================] - 2s 5ms/step\n",
      "329/329 [==============================] - 2s 5ms/step\n",
      "329/329 [==============================] - 2s 5ms/step\n",
      "329/329 [==============================] - 2s 5ms/step\n",
      "329/329 [==============================] - 2s 6ms/step\n",
      "329/329 [==============================] - 2s 5ms/step\n",
      "329/329 [==============================] - 2s 5ms/step\n",
      "329/329 [==============================] - 2s 4ms/step\n",
      "329/329 [==============================] - 2s 7ms/step\n",
      "329/329 [==============================] - 13s 9ms/step\n",
      "329/329 [==============================] - 3s 9ms/step\n",
      "329/329 [==============================] - 7s 18ms/step\n",
      "329/329 [==============================] - 4s 10ms/step\n",
      "329/329 [==============================] - 3s 7ms/step\n",
      "329/329 [==============================] - 3s 9ms/step\n",
      "329/329 [==============================] - 3s 9ms/step\n",
      "329/329 [==============================] - 2s 7ms/step\n",
      "329/329 [==============================] - 3s 8ms/step\n",
      "329/329 [==============================] - 3s 7ms/step\n",
      "329/329 [==============================] - 3s 7ms/step\n",
      "329/329 [==============================] - 2s 6ms/step\n",
      "329/329 [==============================] - 3s 8ms/step\n",
      "329/329 [==============================] - 2s 6ms/step\n",
      "329/329 [==============================] - 2s 6ms/step\n",
      "329/329 [==============================] - 2s 6ms/step\n",
      "329/329 [==============================] - 2s 5ms/step\n",
      "329/329 [==============================] - 5s 11ms/step\n",
      "329/329 [==============================] - 3s 8ms/step\n",
      "329/329 [==============================] - 2s 6ms/step\n",
      "329/329 [==============================] - 2s 7ms/step\n",
      "329/329 [==============================] - 2s 6ms/step\n",
      "329/329 [==============================] - 2s 6ms/step\n",
      "329/329 [==============================] - 1s 4ms/step\n",
      "329/329 [==============================] - 4s 10ms/step\n",
      "329/329 [==============================] - 2s 7ms/step\n",
      "329/329 [==============================] - 2s 7ms/step\n",
      "329/329 [==============================] - 2s 7ms/step\n",
      "329/329 [==============================] - 2s 6ms/step\n",
      "329/329 [==============================] - 2s 7ms/step\n",
      "329/329 [==============================] - 3s 7ms/step\n",
      "329/329 [==============================] - 2s 6ms/step\n",
      "329/329 [==============================] - 2s 6ms/step\n",
      "329/329 [==============================] - 2s 6ms/step\n",
      "329/329 [==============================] - 2s 7ms/step\n",
      "329/329 [==============================] - 2s 7ms/step\n",
      "329/329 [==============================] - 3s 9ms/step\n",
      "329/329 [==============================] - 2s 6ms/step\n",
      "329/329 [==============================] - 2s 6ms/step\n",
      "329/329 [==============================] - 2s 6ms/step\n",
      "329/329 [==============================] - 2s 6ms/step\n",
      "329/329 [==============================] - 2s 7ms/step\n",
      "329/329 [==============================] - 2s 6ms/step\n",
      "329/329 [==============================] - 2s 6ms/step\n",
      "329/329 [==============================] - 2s 6ms/step\n",
      "329/329 [==============================] - 2s 6ms/step\n",
      "329/329 [==============================] - 2s 7ms/step\n",
      "329/329 [==============================] - 2s 6ms/step\n",
      "Generation: 1\n",
      "329/329 [==============================] - 2s 7ms/step\n",
      "329/329 [==============================] - 2s 6ms/step\n",
      "329/329 [==============================] - 2s 7ms/step\n",
      "329/329 [==============================] - 2s 6ms/step\n",
      "329/329 [==============================] - 2s 6ms/step\n",
      "329/329 [==============================] - 2s 6ms/step\n",
      "329/329 [==============================] - 2s 6ms/step\n",
      "329/329 [==============================] - 2s 7ms/step\n",
      "329/329 [==============================] - 2s 6ms/step\n",
      "329/329 [==============================] - 2s 6ms/step\n",
      "329/329 [==============================] - 2s 6ms/step\n",
      "329/329 [==============================] - 2s 6ms/step\n",
      "329/329 [==============================] - 2s 6ms/step\n",
      "329/329 [==============================] - 2s 6ms/step\n",
      "329/329 [==============================] - 2s 6ms/step\n",
      "329/329 [==============================] - 2s 6ms/step\n",
      "329/329 [==============================] - 2s 6ms/step\n",
      "329/329 [==============================] - 2s 6ms/step\n",
      "329/329 [==============================] - 2s 6ms/step\n",
      "329/329 [==============================] - 2s 6ms/step\n",
      "329/329 [==============================] - 2s 6ms/step\n",
      "329/329 [==============================] - 2s 6ms/step\n",
      "329/329 [==============================] - 2s 6ms/step\n",
      "329/329 [==============================] - 2s 6ms/step\n",
      "329/329 [==============================] - 2s 6ms/step\n",
      "329/329 [==============================] - 2s 6ms/step\n",
      "329/329 [==============================] - 2s 6ms/step\n",
      "329/329 [==============================] - 2s 6ms/step\n",
      "329/329 [==============================] - 2s 7ms/step\n",
      "329/329 [==============================] - 2s 6ms/step\n",
      "329/329 [==============================] - 3s 7ms/step\n",
      "329/329 [==============================] - 2s 6ms/step\n",
      "329/329 [==============================] - 2s 6ms/step\n",
      "329/329 [==============================] - 2s 6ms/step\n",
      "329/329 [==============================] - 2s 6ms/step\n",
      "329/329 [==============================] - 2s 6ms/step\n",
      "329/329 [==============================] - 2s 6ms/step\n",
      "329/329 [==============================] - 2s 6ms/step\n",
      "329/329 [==============================] - 2s 6ms/step\n",
      "329/329 [==============================] - 2s 6ms/step\n",
      "329/329 [==============================] - 2s 6ms/step\n",
      "329/329 [==============================] - 2s 6ms/step\n",
      "329/329 [==============================] - 2s 6ms/step\n",
      "329/329 [==============================] - 2s 6ms/step\n",
      "329/329 [==============================] - 2s 6ms/step\n",
      "329/329 [==============================] - 2s 6ms/step\n",
      "329/329 [==============================] - 2s 6ms/step\n",
      "329/329 [==============================] - 2s 6ms/step\n",
      "329/329 [==============================] - 2s 6ms/step\n",
      "Fitness: 0.7842097639207681\n",
      "329/329 [==============================] - 2s 6ms/step\n",
      "329/329 [==============================] - 2s 6ms/step\n",
      "329/329 [==============================] - 2s 7ms/step\n",
      "329/329 [==============================] - 2s 6ms/step\n",
      "329/329 [==============================] - 2s 6ms/step\n",
      "329/329 [==============================] - 2s 6ms/step\n",
      "329/329 [==============================] - 2s 5ms/step\n",
      "329/329 [==============================] - 2s 6ms/step\n",
      "329/329 [==============================] - 2s 6ms/step\n",
      "329/329 [==============================] - 2s 5ms/step\n",
      "329/329 [==============================] - 2s 6ms/step\n",
      "329/329 [==============================] - 2s 6ms/step\n",
      "329/329 [==============================] - 2s 6ms/step\n",
      "329/329 [==============================] - 2s 6ms/step\n",
      "329/329 [==============================] - 2s 6ms/step\n",
      "329/329 [==============================] - 2s 5ms/step\n",
      "329/329 [==============================] - 2s 6ms/step\n",
      "329/329 [==============================] - 2s 6ms/step\n",
      "329/329 [==============================] - 2s 6ms/step\n",
      "329/329 [==============================] - 2s 6ms/step\n",
      "329/329 [==============================] - 2s 6ms/step\n",
      "329/329 [==============================] - 2s 6ms/step\n",
      "329/329 [==============================] - 2s 6ms/step\n",
      "329/329 [==============================] - 2s 5ms/step\n",
      "329/329 [==============================] - 2s 5ms/step\n",
      "329/329 [==============================] - 1s 4ms/step\n",
      "329/329 [==============================] - 2s 5ms/step\n",
      "329/329 [==============================] - 2s 5ms/step\n",
      "329/329 [==============================] - 2s 5ms/step\n",
      "329/329 [==============================] - 2s 6ms/step\n",
      "329/329 [==============================] - 2s 5ms/step\n",
      "329/329 [==============================] - 2s 7ms/step\n",
      "329/329 [==============================] - 3s 8ms/step\n",
      "329/329 [==============================] - 3s 8ms/step\n",
      "329/329 [==============================] - 3s 8ms/step\n",
      "329/329 [==============================] - 3s 8ms/step\n",
      "329/329 [==============================] - 3s 8ms/step\n",
      "329/329 [==============================] - 2s 7ms/step\n",
      "329/329 [==============================] - 2s 7ms/step\n",
      "329/329 [==============================] - 2s 7ms/step\n",
      "329/329 [==============================] - 2s 7ms/step\n",
      "329/329 [==============================] - 2s 7ms/step\n",
      "329/329 [==============================] - 2s 7ms/step\n",
      "329/329 [==============================] - 2s 7ms/step\n",
      "329/329 [==============================] - 2s 7ms/step\n",
      "329/329 [==============================] - 2s 7ms/step\n",
      "329/329 [==============================] - 2s 7ms/step\n",
      "329/329 [==============================] - 2s 7ms/step\n",
      "329/329 [==============================] - 2s 7ms/step\n",
      "Generation: 2\n",
      "329/329 [==============================] - 2s 7ms/step\n",
      "329/329 [==============================] - 2s 6ms/step\n",
      "329/329 [==============================] - 2s 7ms/step\n",
      "329/329 [==============================] - 2s 7ms/step\n",
      "329/329 [==============================] - 2s 7ms/step\n",
      "329/329 [==============================] - 2s 7ms/step\n",
      "329/329 [==============================] - 2s 7ms/step\n",
      "329/329 [==============================] - 2s 7ms/step\n",
      "329/329 [==============================] - 2s 7ms/step\n",
      "329/329 [==============================] - 2s 6ms/step\n",
      "329/329 [==============================] - 3s 8ms/step\n",
      "329/329 [==============================] - 3s 8ms/step\n",
      "329/329 [==============================] - 2s 7ms/step\n",
      "329/329 [==============================] - 2s 7ms/step\n",
      "329/329 [==============================] - 2s 7ms/step\n",
      "329/329 [==============================] - 2s 7ms/step\n",
      "329/329 [==============================] - 2s 7ms/step\n",
      "329/329 [==============================] - 2s 7ms/step\n",
      "329/329 [==============================] - 2s 7ms/step\n",
      "329/329 [==============================] - 2s 7ms/step\n",
      "329/329 [==============================] - 2s 7ms/step\n",
      "329/329 [==============================] - 3s 8ms/step\n",
      "329/329 [==============================] - 3s 7ms/step\n",
      "329/329 [==============================] - 2s 7ms/step\n",
      "329/329 [==============================] - 2s 7ms/step\n",
      "329/329 [==============================] - 2s 7ms/step\n",
      "329/329 [==============================] - 2s 7ms/step\n",
      "329/329 [==============================] - 2s 7ms/step\n",
      "329/329 [==============================] - 2s 7ms/step\n",
      "329/329 [==============================] - 2s 7ms/step\n",
      "329/329 [==============================] - 3s 8ms/step\n",
      "329/329 [==============================] - 3s 7ms/step\n",
      "329/329 [==============================] - 3s 8ms/step\n",
      "329/329 [==============================] - 3s 8ms/step\n",
      "329/329 [==============================] - 2s 7ms/step\n",
      "329/329 [==============================] - 2s 7ms/step\n",
      "329/329 [==============================] - 2s 7ms/step\n",
      "329/329 [==============================] - 2s 7ms/step\n",
      "329/329 [==============================] - 2s 7ms/step\n",
      "329/329 [==============================] - 2s 7ms/step\n",
      "329/329 [==============================] - 2s 7ms/step\n",
      "329/329 [==============================] - 2s 6ms/step\n",
      "329/329 [==============================] - 2s 7ms/step\n",
      "329/329 [==============================] - 2s 7ms/step\n",
      "329/329 [==============================] - 2s 7ms/step\n",
      "329/329 [==============================] - 2s 7ms/step\n",
      "329/329 [==============================] - 2s 7ms/step\n",
      "329/329 [==============================] - 2s 7ms/step\n",
      "329/329 [==============================] - 2s 7ms/step\n",
      "Fitness: 0.7842097639207681\n",
      "329/329 [==============================] - 2s 7ms/step\n",
      "329/329 [==============================] - 2s 7ms/step\n",
      "329/329 [==============================] - 2s 7ms/step\n",
      "329/329 [==============================] - 2s 6ms/step\n",
      "329/329 [==============================] - 2s 7ms/step\n",
      "329/329 [==============================] - 2s 7ms/step\n",
      "329/329 [==============================] - 2s 7ms/step\n",
      "329/329 [==============================] - 2s 7ms/step\n",
      "329/329 [==============================] - 2s 6ms/step\n",
      "329/329 [==============================] - 3s 8ms/step\n",
      "329/329 [==============================] - 3s 8ms/step\n",
      "329/329 [==============================] - 3s 8ms/step\n",
      "329/329 [==============================] - 2s 7ms/step\n",
      "329/329 [==============================] - 2s 7ms/step\n",
      "329/329 [==============================] - 2s 7ms/step\n",
      "329/329 [==============================] - 2s 7ms/step\n",
      "329/329 [==============================] - 2s 7ms/step\n",
      "329/329 [==============================] - 2s 7ms/step\n",
      "329/329 [==============================] - 2s 7ms/step\n",
      "329/329 [==============================] - 2s 7ms/step\n",
      "329/329 [==============================] - 2s 7ms/step\n",
      "329/329 [==============================] - 2s 7ms/step\n",
      "329/329 [==============================] - 2s 6ms/step\n",
      "329/329 [==============================] - 2s 7ms/step\n",
      "329/329 [==============================] - 2s 7ms/step\n",
      "329/329 [==============================] - 2s 7ms/step\n",
      "329/329 [==============================] - 2s 7ms/step\n",
      "329/329 [==============================] - 2s 7ms/step\n",
      "329/329 [==============================] - 2s 7ms/step\n",
      "329/329 [==============================] - 2s 7ms/step\n",
      "329/329 [==============================] - 2s 7ms/step\n",
      "329/329 [==============================] - 2s 7ms/step\n",
      "329/329 [==============================] - 2s 7ms/step\n",
      "329/329 [==============================] - 2s 7ms/step\n",
      "329/329 [==============================] - 2s 6ms/step\n",
      "329/329 [==============================] - 2s 7ms/step\n",
      "329/329 [==============================] - 2s 7ms/step\n",
      "329/329 [==============================] - 2s 7ms/step\n",
      "329/329 [==============================] - 2s 7ms/step\n",
      "329/329 [==============================] - 2s 7ms/step\n",
      "329/329 [==============================] - 2s 7ms/step\n",
      "329/329 [==============================] - 2s 6ms/step\n",
      "329/329 [==============================] - 2s 7ms/step\n",
      "329/329 [==============================] - 2s 7ms/step\n",
      "329/329 [==============================] - 2s 7ms/step\n",
      "329/329 [==============================] - 2s 7ms/step\n",
      "329/329 [==============================] - 3s 8ms/step\n",
      "329/329 [==============================] - 2s 6ms/step\n",
      "329/329 [==============================] - 2s 6ms/step\n",
      "Generation: 3\n",
      "329/329 [==============================] - 2s 7ms/step\n"
     ]
    },
    {
     "name": "stdout",
     "output_type": "stream",
     "text": [
      "329/329 [==============================] - 2s 5ms/step\n",
      "329/329 [==============================] - 2s 5ms/step\n",
      "329/329 [==============================] - 2s 6ms/step\n",
      "329/329 [==============================] - 2s 6ms/step\n",
      "329/329 [==============================] - 2s 6ms/step\n",
      "329/329 [==============================] - 2s 5ms/step\n",
      "329/329 [==============================] - 2s 6ms/step\n",
      "329/329 [==============================] - 2s 6ms/step\n",
      "329/329 [==============================] - 2s 5ms/step\n",
      "329/329 [==============================] - 2s 6ms/step\n",
      "329/329 [==============================] - 2s 5ms/step\n",
      "329/329 [==============================] - 2s 5ms/step\n",
      "329/329 [==============================] - 2s 6ms/step\n",
      "329/329 [==============================] - 2s 6ms/step\n",
      "329/329 [==============================] - 2s 7ms/step\n",
      "329/329 [==============================] - 2s 7ms/step\n",
      "329/329 [==============================] - 2s 7ms/step\n",
      "329/329 [==============================] - 2s 7ms/step\n",
      "329/329 [==============================] - 2s 7ms/step\n",
      "329/329 [==============================] - 2s 7ms/step\n",
      "329/329 [==============================] - 2s 7ms/step\n",
      "329/329 [==============================] - 2s 7ms/step\n",
      "329/329 [==============================] - 2s 7ms/step\n",
      "329/329 [==============================] - 2s 7ms/step\n",
      "329/329 [==============================] - 3s 7ms/step\n",
      "329/329 [==============================] - 2s 7ms/step\n",
      "329/329 [==============================] - 2s 7ms/step\n",
      "329/329 [==============================] - 2s 7ms/step\n",
      "329/329 [==============================] - 2s 7ms/step\n",
      "329/329 [==============================] - 2s 7ms/step\n",
      "329/329 [==============================] - 3s 8ms/step\n",
      "329/329 [==============================] - 2s 7ms/step\n",
      "329/329 [==============================] - 2s 7ms/step\n",
      "329/329 [==============================] - 2s 7ms/step\n",
      "329/329 [==============================] - 2s 7ms/step\n",
      "329/329 [==============================] - 2s 7ms/step\n",
      "329/329 [==============================] - 2s 7ms/step\n",
      "329/329 [==============================] - 2s 7ms/step\n",
      "329/329 [==============================] - 2s 7ms/step\n",
      "329/329 [==============================] - 2s 7ms/step\n",
      "329/329 [==============================] - 2s 6ms/step\n",
      "329/329 [==============================] - 2s 7ms/step\n",
      "329/329 [==============================] - 2s 7ms/step\n",
      "329/329 [==============================] - 2s 7ms/step\n",
      "329/329 [==============================] - 2s 7ms/step\n",
      "329/329 [==============================] - 2s 7ms/step\n",
      "329/329 [==============================] - 2s 7ms/step\n",
      "329/329 [==============================] - 2s 7ms/step\n",
      "Fitness: 0.7842097639207681\n",
      "329/329 [==============================] - 2s 7ms/step\n",
      "329/329 [==============================] - 2s 7ms/step\n",
      "329/329 [==============================] - 2s 7ms/step\n",
      "329/329 [==============================] - 2s 7ms/step\n",
      "329/329 [==============================] - 2s 7ms/step\n",
      "329/329 [==============================] - 2s 7ms/step\n",
      "329/329 [==============================] - 3s 8ms/step\n",
      "329/329 [==============================] - 2s 7ms/step\n",
      "329/329 [==============================] - 3s 8ms/step\n",
      "329/329 [==============================] - 2s 7ms/step\n",
      "329/329 [==============================] - 3s 8ms/step\n",
      "329/329 [==============================] - 2s 7ms/step\n",
      "329/329 [==============================] - 3s 9ms/step\n",
      "329/329 [==============================] - 3s 9ms/step\n",
      "329/329 [==============================] - 3s 8ms/step\n",
      "329/329 [==============================] - 3s 9ms/step\n",
      "329/329 [==============================] - 3s 8ms/step\n",
      "329/329 [==============================] - 3s 8ms/step\n",
      "329/329 [==============================] - 3s 8ms/step\n",
      "329/329 [==============================] - 3s 8ms/step\n",
      "329/329 [==============================] - 2s 7ms/step\n",
      "329/329 [==============================] - 3s 9ms/step\n",
      "329/329 [==============================] - 2s 7ms/step\n",
      "329/329 [==============================] - 2s 7ms/step\n",
      "329/329 [==============================] - 3s 8ms/step\n",
      "329/329 [==============================] - 3s 10ms/step\n",
      "329/329 [==============================] - 2s 7ms/step\n",
      "329/329 [==============================] - 2s 7ms/step\n",
      "329/329 [==============================] - 2s 7ms/step\n",
      "329/329 [==============================] - 2s 7ms/step\n",
      "329/329 [==============================] - 2s 7ms/step\n",
      "329/329 [==============================] - 2s 7ms/step\n",
      "329/329 [==============================] - 2s 7ms/step\n",
      "329/329 [==============================] - 2s 7ms/step\n",
      "329/329 [==============================] - 2s 7ms/step\n",
      "329/329 [==============================] - 2s 7ms/step\n",
      "329/329 [==============================] - 2s 7ms/step\n",
      "329/329 [==============================] - 3s 7ms/step\n",
      "329/329 [==============================] - 2s 7ms/step\n",
      "329/329 [==============================] - 3s 8ms/step\n",
      "329/329 [==============================] - 2s 7ms/step\n",
      "329/329 [==============================] - 3s 8ms/step\n",
      "329/329 [==============================] - 3s 8ms/step\n",
      "329/329 [==============================] - 3s 8ms/step\n",
      "329/329 [==============================] - 3s 8ms/step\n",
      "329/329 [==============================] - 3s 8ms/step\n",
      "329/329 [==============================] - 3s 8ms/step\n",
      "329/329 [==============================] - 3s 8ms/step\n",
      "329/329 [==============================] - 2s 7ms/step\n",
      "Generation: 4\n",
      "329/329 [==============================] - 3s 7ms/step\n",
      "329/329 [==============================] - 3s 8ms/step\n",
      "329/329 [==============================] - 2s 7ms/step\n",
      "329/329 [==============================] - 2s 7ms/step\n",
      "329/329 [==============================] - 3s 8ms/step\n",
      "329/329 [==============================] - 2s 7ms/step\n",
      "329/329 [==============================] - 2s 6ms/step\n",
      "329/329 [==============================] - 2s 7ms/step\n",
      "329/329 [==============================] - 2s 7ms/step\n",
      "329/329 [==============================] - 2s 6ms/step\n",
      "329/329 [==============================] - 2s 6ms/step\n",
      "329/329 [==============================] - 2s 7ms/step\n",
      "329/329 [==============================] - 2s 6ms/step\n",
      "329/329 [==============================] - 2s 6ms/step\n",
      "329/329 [==============================] - 2s 7ms/step\n",
      "329/329 [==============================] - 2s 6ms/step\n",
      "329/329 [==============================] - 2s 6ms/step\n",
      "329/329 [==============================] - 2s 6ms/step\n",
      "329/329 [==============================] - 2s 6ms/step\n",
      "329/329 [==============================] - 3s 8ms/step\n",
      "329/329 [==============================] - 2s 7ms/step\n",
      "329/329 [==============================] - 2s 7ms/step\n",
      "329/329 [==============================] - 2s 7ms/step\n",
      "329/329 [==============================] - 2s 7ms/step\n",
      "329/329 [==============================] - 2s 7ms/step\n",
      "329/329 [==============================] - 2s 6ms/step\n",
      "329/329 [==============================] - 2s 7ms/step\n",
      "329/329 [==============================] - 2s 7ms/step\n",
      "329/329 [==============================] - 2s 6ms/step\n",
      "329/329 [==============================] - 2s 7ms/step\n",
      "329/329 [==============================] - 2s 6ms/step\n",
      "329/329 [==============================] - 2s 6ms/step\n",
      "329/329 [==============================] - 2s 7ms/step\n",
      "329/329 [==============================] - 2s 6ms/step\n",
      "329/329 [==============================] - 2s 6ms/step\n",
      "329/329 [==============================] - 2s 6ms/step\n",
      "329/329 [==============================] - 2s 6ms/step\n",
      "329/329 [==============================] - 2s 7ms/step\n",
      "329/329 [==============================] - 2s 7ms/step\n",
      "329/329 [==============================] - 2s 7ms/step\n",
      "329/329 [==============================] - 2s 6ms/step\n",
      "329/329 [==============================] - 2s 6ms/step\n",
      "329/329 [==============================] - 2s 7ms/step\n",
      "329/329 [==============================] - 2s 6ms/step\n",
      "329/329 [==============================] - 2s 6ms/step\n",
      "329/329 [==============================] - 2s 6ms/step\n",
      "329/329 [==============================] - 2s 6ms/step\n",
      "329/329 [==============================] - 2s 6ms/step\n",
      "329/329 [==============================] - 2s 6ms/step\n",
      "Fitness: 0.7842097639207681\n",
      "329/329 [==============================] - 2s 6ms/step\n",
      "329/329 [==============================] - 2s 6ms/step\n",
      "329/329 [==============================] - 2s 5ms/step\n",
      "329/329 [==============================] - 2s 6ms/step\n",
      "329/329 [==============================] - 2s 6ms/step\n",
      "329/329 [==============================] - 2s 6ms/step\n",
      "329/329 [==============================] - 2s 6ms/step\n",
      "329/329 [==============================] - 2s 6ms/step\n",
      "329/329 [==============================] - 2s 5ms/step\n",
      "329/329 [==============================] - 2s 5ms/step\n",
      "329/329 [==============================] - 2s 6ms/step\n",
      "329/329 [==============================] - 2s 6ms/step\n",
      "329/329 [==============================] - 2s 5ms/step\n",
      "329/329 [==============================] - 2s 5ms/step\n",
      "329/329 [==============================] - 2s 6ms/step\n",
      "329/329 [==============================] - 2s 6ms/step\n",
      "329/329 [==============================] - 2s 5ms/step\n",
      "329/329 [==============================] - 2s 6ms/step\n",
      "329/329 [==============================] - 2s 6ms/step\n",
      "329/329 [==============================] - 2s 6ms/step\n",
      "329/329 [==============================] - 2s 6ms/step\n",
      "329/329 [==============================] - 2s 6ms/step\n",
      "329/329 [==============================] - 2s 6ms/step\n",
      "329/329 [==============================] - 2s 6ms/step\n",
      "329/329 [==============================] - 3s 8ms/step\n",
      "329/329 [==============================] - 3s 7ms/step\n",
      "329/329 [==============================] - 2s 6ms/step\n",
      "329/329 [==============================] - 2s 6ms/step\n",
      "329/329 [==============================] - 2s 6ms/step\n",
      "329/329 [==============================] - 2s 6ms/step\n",
      "329/329 [==============================] - 2s 6ms/step\n",
      "329/329 [==============================] - 2s 6ms/step\n",
      "329/329 [==============================] - 2s 7ms/step\n",
      "329/329 [==============================] - 2s 6ms/step\n",
      "329/329 [==============================] - 2s 6ms/step\n",
      "329/329 [==============================] - 2s 6ms/step\n",
      "329/329 [==============================] - 2s 6ms/step\n",
      "329/329 [==============================] - 2s 6ms/step\n",
      "329/329 [==============================] - 2s 6ms/step\n",
      "329/329 [==============================] - 2s 6ms/step\n",
      "329/329 [==============================] - 2s 6ms/step\n",
      "329/329 [==============================] - 2s 6ms/step\n",
      "329/329 [==============================] - 2s 7ms/step\n",
      "329/329 [==============================] - 2s 7ms/step\n",
      "329/329 [==============================] - 2s 7ms/step\n",
      "329/329 [==============================] - 2s 6ms/step\n",
      "329/329 [==============================] - 2s 7ms/step\n",
      "329/329 [==============================] - 2s 7ms/step\n",
      "329/329 [==============================] - 2s 6ms/step\n",
      "Generation: 5\n",
      "329/329 [==============================] - 2s 7ms/step\n",
      "329/329 [==============================] - 2s 6ms/step\n",
      "329/329 [==============================] - 2s 6ms/step\n",
      "329/329 [==============================] - 2s 6ms/step\n",
      "329/329 [==============================] - 2s 7ms/step\n",
      "329/329 [==============================] - 2s 7ms/step\n",
      "329/329 [==============================] - 2s 6ms/step\n",
      "329/329 [==============================] - 2s 6ms/step\n",
      "329/329 [==============================] - 2s 6ms/step\n",
      "329/329 [==============================] - 2s 7ms/step\n",
      "329/329 [==============================] - 2s 7ms/step\n",
      "329/329 [==============================] - 2s 6ms/step\n",
      "329/329 [==============================] - 2s 6ms/step\n",
      "329/329 [==============================] - 2s 6ms/step\n",
      "329/329 [==============================] - 2s 6ms/step\n",
      "329/329 [==============================] - 2s 6ms/step\n",
      "329/329 [==============================] - 2s 6ms/step\n",
      "329/329 [==============================] - 2s 7ms/step\n",
      "329/329 [==============================] - 2s 6ms/step\n",
      "329/329 [==============================] - 2s 6ms/step\n",
      "329/329 [==============================] - 2s 6ms/step\n",
      "329/329 [==============================] - 2s 7ms/step\n",
      "329/329 [==============================] - 2s 7ms/step\n",
      "329/329 [==============================] - 2s 6ms/step\n",
      "329/329 [==============================] - 2s 7ms/step\n",
      "329/329 [==============================] - 2s 7ms/step\n",
      "329/329 [==============================] - 2s 6ms/step\n",
      "329/329 [==============================] - 2s 7ms/step\n",
      "329/329 [==============================] - 3s 8ms/step\n",
      "329/329 [==============================] - 2s 6ms/step\n",
      "329/329 [==============================] - 2s 7ms/step\n",
      "329/329 [==============================] - 2s 6ms/step\n",
      "329/329 [==============================] - 2s 6ms/step\n",
      "329/329 [==============================] - 2s 7ms/step\n",
      "329/329 [==============================] - 2s 6ms/step\n",
      "329/329 [==============================] - 2s 7ms/step\n",
      "329/329 [==============================] - 2s 6ms/step\n",
      "329/329 [==============================] - 2s 6ms/step\n",
      "329/329 [==============================] - 2s 7ms/step\n",
      "329/329 [==============================] - 2s 6ms/step\n",
      "329/329 [==============================] - 2s 6ms/step\n",
      "329/329 [==============================] - 2s 6ms/step\n",
      "329/329 [==============================] - 2s 7ms/step\n",
      "329/329 [==============================] - 2s 6ms/step\n",
      "329/329 [==============================] - 2s 6ms/step\n",
      "329/329 [==============================] - 2s 7ms/step\n",
      "329/329 [==============================] - 2s 7ms/step\n",
      "329/329 [==============================] - 2s 7ms/step\n",
      "329/329 [==============================] - 2s 6ms/step\n",
      "Fitness: 0.7842097639207681\n",
      "329/329 [==============================] - 2s 6ms/step\n",
      "329/329 [==============================] - 2s 6ms/step\n",
      "329/329 [==============================] - 2s 7ms/step\n",
      "329/329 [==============================] - 2s 6ms/step\n",
      "329/329 [==============================] - 2s 6ms/step\n",
      "329/329 [==============================] - 2s 7ms/step\n",
      "329/329 [==============================] - 2s 6ms/step\n",
      "329/329 [==============================] - 2s 6ms/step\n",
      "329/329 [==============================] - 2s 7ms/step\n",
      "329/329 [==============================] - 2s 6ms/step\n",
      "329/329 [==============================] - 2s 7ms/step\n",
      "329/329 [==============================] - 2s 6ms/step\n",
      "329/329 [==============================] - 2s 7ms/step\n",
      "329/329 [==============================] - 2s 7ms/step\n",
      "329/329 [==============================] - 2s 6ms/step\n",
      "329/329 [==============================] - 2s 6ms/step\n",
      "329/329 [==============================] - 2s 6ms/step\n",
      "329/329 [==============================] - 2s 6ms/step\n",
      "329/329 [==============================] - 2s 7ms/step\n",
      "329/329 [==============================] - 2s 7ms/step\n",
      "329/329 [==============================] - 2s 7ms/step\n",
      "329/329 [==============================] - 2s 7ms/step\n",
      "329/329 [==============================] - 2s 6ms/step\n",
      "329/329 [==============================] - 2s 7ms/step\n",
      "329/329 [==============================] - 2s 7ms/step\n",
      "329/329 [==============================] - 2s 7ms/step\n",
      "329/329 [==============================] - 2s 6ms/step\n",
      "329/329 [==============================] - 2s 7ms/step\n",
      "329/329 [==============================] - 2s 6ms/step\n",
      "329/329 [==============================] - 2s 6ms/step\n",
      "329/329 [==============================] - 2s 7ms/step\n",
      "329/329 [==============================] - 2s 6ms/step\n",
      "329/329 [==============================] - 2s 7ms/step\n",
      "329/329 [==============================] - 2s 7ms/step\n",
      "329/329 [==============================] - 2s 6ms/step\n",
      "329/329 [==============================] - 2s 6ms/step\n",
      "329/329 [==============================] - 2s 6ms/step\n",
      "329/329 [==============================] - 2s 6ms/step\n",
      "329/329 [==============================] - 2s 6ms/step\n",
      "329/329 [==============================] - 2s 6ms/step\n",
      "329/329 [==============================] - 2s 6ms/step\n",
      "329/329 [==============================] - 2s 7ms/step\n",
      "329/329 [==============================] - 2s 6ms/step\n",
      "329/329 [==============================] - 2s 6ms/step\n",
      "329/329 [==============================] - 2s 6ms/step\n",
      "329/329 [==============================] - 2s 6ms/step\n",
      "329/329 [==============================] - 2s 6ms/step\n",
      "329/329 [==============================] - 2s 6ms/step\n",
      "329/329 [==============================] - 2s 6ms/step\n",
      "Generation: 6\n",
      "329/329 [==============================] - 2s 6ms/step\n",
      "329/329 [==============================] - 2s 6ms/step\n"
     ]
    },
    {
     "name": "stdout",
     "output_type": "stream",
     "text": [
      "329/329 [==============================] - 2s 6ms/step\n",
      "329/329 [==============================] - 2s 6ms/step\n",
      "329/329 [==============================] - 2s 6ms/step\n",
      "329/329 [==============================] - 2s 6ms/step\n",
      "329/329 [==============================] - 2s 6ms/step\n",
      "329/329 [==============================] - 2s 6ms/step\n",
      "329/329 [==============================] - 2s 6ms/step\n",
      "329/329 [==============================] - 2s 6ms/step\n",
      "329/329 [==============================] - 2s 6ms/step\n",
      "329/329 [==============================] - 2s 5ms/step\n",
      "329/329 [==============================] - 2s 6ms/step\n",
      "329/329 [==============================] - 2s 6ms/step\n",
      "329/329 [==============================] - 2s 6ms/step\n",
      "329/329 [==============================] - 2s 6ms/step\n",
      "329/329 [==============================] - 2s 6ms/step\n",
      "329/329 [==============================] - 2s 6ms/step\n",
      "329/329 [==============================] - 2s 6ms/step\n",
      "329/329 [==============================] - 2s 6ms/step\n",
      "329/329 [==============================] - 2s 6ms/step\n",
      "329/329 [==============================] - 2s 6ms/step\n",
      "329/329 [==============================] - 2s 6ms/step\n",
      "329/329 [==============================] - 2s 6ms/step\n",
      "329/329 [==============================] - 2s 6ms/step\n",
      "329/329 [==============================] - 2s 6ms/step\n",
      "329/329 [==============================] - 2s 6ms/step\n",
      "329/329 [==============================] - 2s 6ms/step\n",
      "329/329 [==============================] - 2s 6ms/step\n",
      "329/329 [==============================] - 2s 6ms/step\n",
      "329/329 [==============================] - 2s 6ms/step\n",
      "329/329 [==============================] - 2s 6ms/step\n",
      "329/329 [==============================] - 2s 5ms/step\n",
      "329/329 [==============================] - 2s 6ms/step\n",
      "329/329 [==============================] - 2s 6ms/step\n",
      "329/329 [==============================] - 2s 6ms/step\n",
      "329/329 [==============================] - 2s 6ms/step\n",
      "329/329 [==============================] - 2s 6ms/step\n",
      "329/329 [==============================] - 2s 6ms/step\n",
      "329/329 [==============================] - 2s 6ms/step\n",
      "329/329 [==============================] - 2s 6ms/step\n",
      "329/329 [==============================] - 2s 6ms/step\n",
      "329/329 [==============================] - 2s 6ms/step\n",
      "329/329 [==============================] - 2s 6ms/step\n",
      "329/329 [==============================] - 2s 6ms/step\n",
      "329/329 [==============================] - 2s 6ms/step\n",
      "329/329 [==============================] - 2s 6ms/step\n",
      "329/329 [==============================] - 2s 6ms/step\n",
      "329/329 [==============================] - 2s 6ms/step\n",
      "Fitness: 0.7842097639207681\n",
      "329/329 [==============================] - 2s 6ms/step\n",
      "329/329 [==============================] - 2s 6ms/step\n",
      "329/329 [==============================] - 2s 6ms/step\n",
      "329/329 [==============================] - 2s 6ms/step\n",
      "329/329 [==============================] - 2s 6ms/step\n",
      "329/329 [==============================] - 2s 6ms/step\n",
      "329/329 [==============================] - 2s 6ms/step\n",
      "329/329 [==============================] - 2s 6ms/step\n",
      "329/329 [==============================] - 2s 6ms/step\n",
      "329/329 [==============================] - 2s 6ms/step\n",
      "329/329 [==============================] - 2s 6ms/step\n",
      "329/329 [==============================] - 2s 6ms/step\n",
      "329/329 [==============================] - 2s 6ms/step\n",
      "329/329 [==============================] - 2s 6ms/step\n",
      "329/329 [==============================] - 2s 6ms/step\n",
      "329/329 [==============================] - 2s 6ms/step\n",
      "329/329 [==============================] - 2s 7ms/step\n",
      "329/329 [==============================] - 3s 8ms/step\n",
      "329/329 [==============================] - 2s 6ms/step\n",
      "329/329 [==============================] - 2s 6ms/step\n",
      "329/329 [==============================] - 2s 7ms/step\n",
      "329/329 [==============================] - 2s 7ms/step\n",
      "329/329 [==============================] - 2s 7ms/step\n",
      "329/329 [==============================] - 2s 6ms/step\n",
      "329/329 [==============================] - 2s 7ms/step\n",
      "329/329 [==============================] - 2s 6ms/step\n",
      "329/329 [==============================] - 2s 6ms/step\n",
      "329/329 [==============================] - 2s 7ms/step\n",
      "329/329 [==============================] - 2s 6ms/step\n",
      "329/329 [==============================] - 2s 6ms/step\n",
      "329/329 [==============================] - 2s 6ms/step\n",
      "329/329 [==============================] - 2s 7ms/step\n",
      "329/329 [==============================] - 2s 6ms/step\n",
      "329/329 [==============================] - 2s 6ms/step\n",
      "329/329 [==============================] - 2s 7ms/step\n",
      "329/329 [==============================] - 2s 6ms/step\n",
      "329/329 [==============================] - 2s 6ms/step\n",
      "329/329 [==============================] - 2s 6ms/step\n",
      "329/329 [==============================] - 2s 6ms/step\n",
      "329/329 [==============================] - 2s 6ms/step\n",
      "329/329 [==============================] - 2s 6ms/step\n",
      "329/329 [==============================] - 2s 7ms/step\n",
      "329/329 [==============================] - 2s 7ms/step\n",
      "329/329 [==============================] - 2s 7ms/step\n",
      "329/329 [==============================] - 2s 6ms/step\n",
      "329/329 [==============================] - 2s 6ms/step\n",
      "329/329 [==============================] - 2s 6ms/step\n",
      "329/329 [==============================] - 2s 6ms/step\n",
      "329/329 [==============================] - 2s 7ms/step\n",
      "Generation: 7\n",
      "329/329 [==============================] - 2s 6ms/step\n",
      "329/329 [==============================] - 2s 6ms/step\n",
      "329/329 [==============================] - 2s 6ms/step\n",
      "329/329 [==============================] - 2s 6ms/step\n",
      "329/329 [==============================] - 2s 6ms/step\n",
      "329/329 [==============================] - 2s 6ms/step\n",
      "329/329 [==============================] - 2s 6ms/step\n",
      "329/329 [==============================] - 2s 6ms/step\n",
      "329/329 [==============================] - 2s 6ms/step\n",
      "329/329 [==============================] - 2s 6ms/step\n",
      "329/329 [==============================] - 2s 6ms/step\n",
      "329/329 [==============================] - 2s 6ms/step\n",
      "329/329 [==============================] - 2s 6ms/step\n",
      "329/329 [==============================] - 2s 7ms/step\n",
      "329/329 [==============================] - 2s 7ms/step\n",
      "329/329 [==============================] - 2s 6ms/step\n",
      "329/329 [==============================] - 2s 6ms/step\n",
      "329/329 [==============================] - 2s 6ms/step\n",
      "329/329 [==============================] - 2s 6ms/step\n",
      "329/329 [==============================] - 3s 8ms/step\n",
      "329/329 [==============================] - 2s 6ms/step\n",
      "329/329 [==============================] - 2s 6ms/step\n",
      "329/329 [==============================] - 2s 7ms/step\n",
      "329/329 [==============================] - 2s 6ms/step\n",
      "329/329 [==============================] - 2s 6ms/step\n",
      "329/329 [==============================] - 2s 6ms/step\n",
      "329/329 [==============================] - 2s 6ms/step\n",
      "329/329 [==============================] - 2s 7ms/step\n",
      "329/329 [==============================] - 2s 7ms/step\n",
      "329/329 [==============================] - 2s 7ms/step\n",
      "329/329 [==============================] - 2s 6ms/step\n",
      "329/329 [==============================] - 2s 6ms/step\n",
      "329/329 [==============================] - 2s 7ms/step\n",
      "329/329 [==============================] - 2s 6ms/step\n",
      "329/329 [==============================] - 2s 6ms/step\n",
      "329/329 [==============================] - 2s 7ms/step\n",
      "329/329 [==============================] - 2s 6ms/step\n",
      "329/329 [==============================] - 3s 8ms/step\n",
      "329/329 [==============================] - 2s 7ms/step\n",
      "329/329 [==============================] - 2s 6ms/step\n",
      "329/329 [==============================] - 2s 6ms/step\n",
      "329/329 [==============================] - 2s 6ms/step\n",
      "329/329 [==============================] - 2s 6ms/step\n",
      "329/329 [==============================] - 2s 6ms/step\n",
      "329/329 [==============================] - 2s 7ms/step\n",
      "329/329 [==============================] - 2s 6ms/step\n",
      "329/329 [==============================] - 2s 6ms/step\n",
      "329/329 [==============================] - 2s 7ms/step\n",
      "329/329 [==============================] - 2s 6ms/step\n",
      "Fitness: 0.7842097639207681\n",
      "329/329 [==============================] - 2s 6ms/step\n",
      "329/329 [==============================] - 2s 6ms/step\n",
      "329/329 [==============================] - 2s 6ms/step\n",
      "329/329 [==============================] - 2s 6ms/step\n",
      "329/329 [==============================] - 2s 6ms/step\n",
      "329/329 [==============================] - 2s 5ms/step\n",
      "329/329 [==============================] - 2s 6ms/step\n",
      "329/329 [==============================] - 2s 6ms/step\n",
      "329/329 [==============================] - 2s 6ms/step\n",
      "329/329 [==============================] - 2s 6ms/step\n",
      "329/329 [==============================] - 2s 6ms/step\n",
      "329/329 [==============================] - 2s 6ms/step\n",
      "329/329 [==============================] - 2s 6ms/step\n",
      "329/329 [==============================] - 2s 6ms/step\n",
      "329/329 [==============================] - 2s 6ms/step\n",
      "329/329 [==============================] - 3s 8ms/step\n",
      "329/329 [==============================] - 2s 7ms/step\n",
      "329/329 [==============================] - 2s 7ms/step\n",
      "329/329 [==============================] - 2s 5ms/step\n",
      "329/329 [==============================] - 2s 7ms/step\n",
      "329/329 [==============================] - 2s 6ms/step\n",
      "329/329 [==============================] - 2s 6ms/step\n",
      "329/329 [==============================] - 2s 7ms/step\n",
      "329/329 [==============================] - 2s 6ms/step\n",
      "329/329 [==============================] - 2s 6ms/step\n",
      "329/329 [==============================] - 3s 8ms/step\n",
      "329/329 [==============================] - 3s 8ms/step\n",
      "329/329 [==============================] - 2s 7ms/step\n",
      "329/329 [==============================] - 1s 4ms/step\n",
      "329/329 [==============================] - 2s 4ms/step\n",
      "329/329 [==============================] - 1s 4ms/step\n",
      "329/329 [==============================] - 2s 5ms/step\n",
      "329/329 [==============================] - 2s 5ms/step\n",
      "329/329 [==============================] - 1s 4ms/step\n",
      "329/329 [==============================] - 1s 4ms/step\n",
      "329/329 [==============================] - 1s 4ms/step\n",
      "329/329 [==============================] - 1s 4ms/step\n",
      "329/329 [==============================] - 1s 4ms/step\n",
      "329/329 [==============================] - 1s 4ms/step\n",
      "329/329 [==============================] - 1s 4ms/step\n",
      "329/329 [==============================] - 1s 4ms/step\n",
      "329/329 [==============================] - 1s 4ms/step\n",
      "329/329 [==============================] - 1s 4ms/step\n",
      "329/329 [==============================] - 1s 4ms/step\n",
      "329/329 [==============================] - 1s 4ms/step\n",
      "329/329 [==============================] - 1s 4ms/step\n",
      "329/329 [==============================] - 1s 4ms/step\n",
      "329/329 [==============================] - 3s 8ms/step\n",
      "329/329 [==============================] - 3s 8ms/step\n",
      "Generation: 8\n",
      "329/329 [==============================] - 2s 6ms/step\n",
      "329/329 [==============================] - 2s 6ms/step\n",
      "329/329 [==============================] - 2s 6ms/step\n",
      "329/329 [==============================] - 2s 5ms/step\n",
      "329/329 [==============================] - 2s 5ms/step\n",
      "329/329 [==============================] - 1s 4ms/step\n",
      "329/329 [==============================] - 2s 5ms/step\n",
      "329/329 [==============================] - 2s 4ms/step\n",
      "329/329 [==============================] - 1s 4ms/step\n",
      "329/329 [==============================] - 2s 5ms/step\n",
      "329/329 [==============================] - 1s 4ms/step\n",
      "329/329 [==============================] - 1s 4ms/step\n",
      "329/329 [==============================] - 2s 5ms/step\n",
      "329/329 [==============================] - 2s 5ms/step\n",
      "329/329 [==============================] - 2s 6ms/step\n",
      "329/329 [==============================] - 2s 5ms/step\n",
      "329/329 [==============================] - 2s 5ms/step\n",
      "329/329 [==============================] - 2s 6ms/step\n",
      "329/329 [==============================] - 2s 5ms/step\n",
      "329/329 [==============================] - 2s 6ms/step\n",
      "329/329 [==============================] - 2s 5ms/step\n",
      "329/329 [==============================] - 2s 4ms/step\n",
      "329/329 [==============================] - 2s 5ms/step\n",
      "329/329 [==============================] - 1s 4ms/step\n",
      "329/329 [==============================] - 1s 4ms/step\n",
      "329/329 [==============================] - 1s 4ms/step\n",
      "329/329 [==============================] - 1s 4ms/step\n",
      "329/329 [==============================] - 1s 4ms/step\n",
      "329/329 [==============================] - 1s 4ms/step\n",
      "329/329 [==============================] - 1s 4ms/step\n",
      "329/329 [==============================] - 2s 6ms/step\n",
      "329/329 [==============================] - 2s 6ms/step\n",
      "329/329 [==============================] - 3s 9ms/step\n",
      "329/329 [==============================] - 2s 5ms/step\n",
      "329/329 [==============================] - 2s 4ms/step\n",
      "329/329 [==============================] - 1s 4ms/step\n",
      "329/329 [==============================] - 2s 4ms/step\n",
      "329/329 [==============================] - 2s 6ms/step\n",
      "329/329 [==============================] - 1s 4ms/step\n",
      "329/329 [==============================] - 2s 5ms/step\n",
      "329/329 [==============================] - 2s 5ms/step\n",
      "329/329 [==============================] - 2s 5ms/step\n",
      "329/329 [==============================] - 2s 5ms/step\n",
      "329/329 [==============================] - 2s 5ms/step\n",
      "329/329 [==============================] - 2s 5ms/step\n",
      "329/329 [==============================] - 2s 5ms/step\n",
      "329/329 [==============================] - 2s 6ms/step\n",
      "329/329 [==============================] - 2s 5ms/step\n",
      "329/329 [==============================] - 2s 5ms/step\n",
      "Fitness: 0.7842097639207681\n",
      "329/329 [==============================] - 1s 4ms/step\n",
      "329/329 [==============================] - 1s 4ms/step\n",
      "329/329 [==============================] - 2s 4ms/step\n",
      "329/329 [==============================] - 2s 7ms/step\n",
      "329/329 [==============================] - 2s 7ms/step\n",
      "329/329 [==============================] - 2s 7ms/step\n",
      "329/329 [==============================] - 2s 7ms/step\n",
      "329/329 [==============================] - 2s 6ms/step\n",
      "329/329 [==============================] - 2s 6ms/step\n",
      "329/329 [==============================] - 2s 6ms/step\n",
      "329/329 [==============================] - 2s 6ms/step\n",
      "329/329 [==============================] - 2s 6ms/step\n",
      "329/329 [==============================] - 2s 7ms/step\n",
      "329/329 [==============================] - 2s 6ms/step\n",
      "329/329 [==============================] - 2s 7ms/step\n",
      "329/329 [==============================] - 2s 7ms/step\n",
      "329/329 [==============================] - 2s 7ms/step\n",
      "329/329 [==============================] - 2s 7ms/step\n",
      "329/329 [==============================] - 2s 5ms/step\n",
      "329/329 [==============================] - 2s 7ms/step\n",
      "329/329 [==============================] - 3s 8ms/step\n",
      "329/329 [==============================] - 2s 6ms/step\n",
      "329/329 [==============================] - 3s 7ms/step\n",
      "329/329 [==============================] - 2s 6ms/step\n",
      "329/329 [==============================] - 2s 6ms/step\n",
      "329/329 [==============================] - 2s 7ms/step\n",
      "329/329 [==============================] - 2s 7ms/step\n",
      "329/329 [==============================] - 3s 7ms/step\n",
      "329/329 [==============================] - 2s 7ms/step\n",
      "329/329 [==============================] - 2s 6ms/step\n",
      "329/329 [==============================] - 2s 7ms/step\n",
      "329/329 [==============================] - 2s 6ms/step\n",
      "329/329 [==============================] - 2s 7ms/step\n",
      "329/329 [==============================] - 2s 7ms/step\n",
      "329/329 [==============================] - 2s 6ms/step\n",
      "329/329 [==============================] - 2s 7ms/step\n",
      "329/329 [==============================] - 2s 6ms/step\n",
      "329/329 [==============================] - 2s 6ms/step\n",
      "329/329 [==============================] - 2s 7ms/step\n",
      "329/329 [==============================] - 2s 6ms/step\n",
      "329/329 [==============================] - 2s 6ms/step\n",
      "329/329 [==============================] - 2s 7ms/step\n",
      "329/329 [==============================] - 2s 6ms/step\n",
      "329/329 [==============================] - 2s 6ms/step\n",
      "329/329 [==============================] - 2s 7ms/step\n",
      "329/329 [==============================] - 2s 6ms/step\n",
      "329/329 [==============================] - 2s 6ms/step\n",
      "329/329 [==============================] - 2s 6ms/step\n",
      "329/329 [==============================] - 2s 6ms/step\n",
      "Generation: 9\n",
      "329/329 [==============================] - 2s 6ms/step\n",
      "329/329 [==============================] - 2s 6ms/step\n",
      "329/329 [==============================] - 2s 6ms/step\n"
     ]
    },
    {
     "name": "stdout",
     "output_type": "stream",
     "text": [
      "329/329 [==============================] - 2s 7ms/step\n",
      "329/329 [==============================] - 2s 6ms/step\n",
      "329/329 [==============================] - 2s 6ms/step\n",
      "329/329 [==============================] - 3s 8ms/step\n",
      "329/329 [==============================] - 3s 8ms/step\n",
      "329/329 [==============================] - 2s 7ms/step\n",
      "329/329 [==============================] - 2s 7ms/step\n",
      "329/329 [==============================] - 2s 7ms/step\n",
      "329/329 [==============================] - 2s 6ms/step\n",
      "329/329 [==============================] - 2s 7ms/step\n",
      "329/329 [==============================] - 2s 7ms/step\n",
      "329/329 [==============================] - 2s 6ms/step\n",
      "329/329 [==============================] - 2s 6ms/step\n",
      "329/329 [==============================] - 2s 7ms/step\n",
      "329/329 [==============================] - 2s 6ms/step\n",
      "329/329 [==============================] - 3s 7ms/step\n",
      "329/329 [==============================] - 3s 8ms/step\n",
      "329/329 [==============================] - 3s 8ms/step\n",
      "329/329 [==============================] - 2s 6ms/step\n",
      "329/329 [==============================] - 2s 6ms/step\n",
      "329/329 [==============================] - 2s 6ms/step\n",
      "329/329 [==============================] - 2s 6ms/step\n",
      "329/329 [==============================] - 2s 6ms/step\n",
      "329/329 [==============================] - 2s 6ms/step\n",
      "329/329 [==============================] - 2s 6ms/step\n",
      "329/329 [==============================] - 2s 6ms/step\n",
      "329/329 [==============================] - 2s 6ms/step\n",
      "329/329 [==============================] - 2s 7ms/step\n",
      "329/329 [==============================] - 2s 7ms/step\n",
      "329/329 [==============================] - 2s 7ms/step\n",
      "329/329 [==============================] - 3s 8ms/step\n",
      "329/329 [==============================] - 2s 6ms/step\n",
      "329/329 [==============================] - 2s 6ms/step\n",
      "329/329 [==============================] - 2s 6ms/step\n",
      "329/329 [==============================] - 2s 6ms/step\n",
      "329/329 [==============================] - 2s 7ms/step\n",
      "329/329 [==============================] - 2s 6ms/step\n",
      "329/329 [==============================] - 2s 6ms/step\n",
      "329/329 [==============================] - 2s 6ms/step\n",
      "329/329 [==============================] - 2s 6ms/step\n",
      "329/329 [==============================] - 2s 6ms/step\n",
      "329/329 [==============================] - 2s 6ms/step\n",
      "329/329 [==============================] - 2s 6ms/step\n",
      "329/329 [==============================] - 2s 6ms/step\n",
      "329/329 [==============================] - 2s 6ms/step\n",
      "329/329 [==============================] - 2s 6ms/step\n",
      "Fitness: 0.7842097639207681\n",
      "329/329 [==============================] - 2s 6ms/step\n",
      "329/329 [==============================] - 2s 6ms/step\n",
      "329/329 [==============================] - 2s 6ms/step\n",
      "329/329 [==============================] - 2s 6ms/step\n",
      "329/329 [==============================] - 2s 6ms/step\n",
      "329/329 [==============================] - 2s 6ms/step\n",
      "329/329 [==============================] - 2s 6ms/step\n",
      "329/329 [==============================] - 2s 6ms/step\n",
      "329/329 [==============================] - 2s 6ms/step\n",
      "329/329 [==============================] - 2s 6ms/step\n",
      "329/329 [==============================] - 2s 6ms/step\n",
      "329/329 [==============================] - 2s 6ms/step\n",
      "329/329 [==============================] - 2s 6ms/step\n",
      "329/329 [==============================] - 1s 4ms/step\n",
      "329/329 [==============================] - 2s 7ms/step\n",
      "329/329 [==============================] - 2s 6ms/step\n",
      "329/329 [==============================] - 2s 6ms/step\n",
      "329/329 [==============================] - 2s 6ms/step\n",
      "329/329 [==============================] - 2s 6ms/step\n",
      "329/329 [==============================] - 2s 6ms/step\n",
      "329/329 [==============================] - 2s 6ms/step\n",
      "329/329 [==============================] - 2s 7ms/step\n",
      "329/329 [==============================] - 2s 6ms/step\n",
      "329/329 [==============================] - 2s 6ms/step\n",
      "329/329 [==============================] - 2s 6ms/step\n",
      "329/329 [==============================] - 2s 6ms/step\n",
      "329/329 [==============================] - 2s 6ms/step\n",
      "329/329 [==============================] - 2s 6ms/step\n",
      "329/329 [==============================] - 2s 6ms/step\n",
      "329/329 [==============================] - 2s 6ms/step\n",
      "329/329 [==============================] - 2s 6ms/step\n",
      "329/329 [==============================] - 2s 6ms/step\n",
      "329/329 [==============================] - 2s 6ms/step\n",
      "329/329 [==============================] - 2s 6ms/step\n",
      "329/329 [==============================] - 2s 7ms/step\n",
      "329/329 [==============================] - 2s 6ms/step\n",
      "329/329 [==============================] - 2s 6ms/step\n",
      "329/329 [==============================] - 2s 6ms/step\n",
      "329/329 [==============================] - 2s 6ms/step\n",
      "329/329 [==============================] - 2s 6ms/step\n",
      "329/329 [==============================] - 2s 6ms/step\n",
      "329/329 [==============================] - 2s 6ms/step\n",
      "329/329 [==============================] - 2s 6ms/step\n",
      "329/329 [==============================] - 2s 6ms/step\n",
      "329/329 [==============================] - 2s 6ms/step\n",
      "329/329 [==============================] - 2s 6ms/step\n",
      "329/329 [==============================] - 2s 6ms/step\n",
      "329/329 [==============================] - 2s 6ms/step\n",
      "329/329 [==============================] - 2s 6ms/step\n",
      "Generation: 10\n",
      "329/329 [==============================] - 2s 6ms/step\n",
      "329/329 [==============================] - 2s 6ms/step\n",
      "329/329 [==============================] - 2s 6ms/step\n",
      "329/329 [==============================] - 2s 6ms/step\n",
      "329/329 [==============================] - 2s 6ms/step\n",
      "329/329 [==============================] - 2s 6ms/step\n",
      "329/329 [==============================] - 2s 6ms/step\n",
      "329/329 [==============================] - 2s 6ms/step\n",
      "329/329 [==============================] - 2s 6ms/step\n",
      "329/329 [==============================] - 2s 6ms/step\n",
      "329/329 [==============================] - 2s 6ms/step\n",
      "329/329 [==============================] - 2s 6ms/step\n",
      "329/329 [==============================] - 2s 6ms/step\n",
      "329/329 [==============================] - 2s 6ms/step\n",
      "329/329 [==============================] - 2s 6ms/step\n",
      "329/329 [==============================] - 2s 6ms/step\n",
      "329/329 [==============================] - 2s 6ms/step\n",
      "329/329 [==============================] - 2s 6ms/step\n",
      "329/329 [==============================] - 2s 6ms/step\n",
      "329/329 [==============================] - 2s 6ms/step\n",
      "329/329 [==============================] - 2s 6ms/step\n",
      "329/329 [==============================] - 2s 6ms/step\n",
      "329/329 [==============================] - 2s 6ms/step\n",
      "329/329 [==============================] - 2s 6ms/step\n",
      "329/329 [==============================] - 2s 6ms/step\n",
      "329/329 [==============================] - 2s 5ms/step\n",
      "329/329 [==============================] - 2s 6ms/step\n",
      "329/329 [==============================] - 2s 6ms/step\n",
      "329/329 [==============================] - 2s 6ms/step\n",
      "329/329 [==============================] - 2s 6ms/step\n",
      "329/329 [==============================] - 2s 6ms/step\n",
      "329/329 [==============================] - 2s 6ms/step\n",
      "329/329 [==============================] - 2s 6ms/step\n",
      "329/329 [==============================] - 2s 6ms/step\n",
      "329/329 [==============================] - 2s 6ms/step\n",
      "329/329 [==============================] - 2s 6ms/step\n",
      "329/329 [==============================] - 2s 6ms/step\n",
      "329/329 [==============================] - 2s 6ms/step\n",
      "329/329 [==============================] - 2s 6ms/step\n",
      "329/329 [==============================] - 2s 6ms/step\n",
      "329/329 [==============================] - 2s 6ms/step\n",
      "329/329 [==============================] - 2s 6ms/step\n",
      "329/329 [==============================] - 2s 6ms/step\n",
      "329/329 [==============================] - 2s 6ms/step\n",
      "329/329 [==============================] - 2s 6ms/step\n",
      "329/329 [==============================] - 2s 6ms/step\n",
      "329/329 [==============================] - 2s 6ms/step\n",
      "329/329 [==============================] - 2s 6ms/step\n",
      "329/329 [==============================] - 2s 6ms/step\n",
      "Fitness: 0.7842097639207681\n"
     ]
    }
   ],
   "source": [
    "# Runs the genetic algorithm.\n",
    "ga_instance.run()"
   ]
  },
  {
   "cell_type": "code",
   "execution_count": 95,
   "metadata": {
    "execution": {
     "iopub.status.busy": "2022-08-09T18:33:21.495545Z",
     "iopub.status.idle": "2022-08-09T18:33:21.495949Z",
     "shell.execute_reply": "2022-08-09T18:33:21.495767Z",
     "shell.execute_reply.started": "2022-08-09T18:33:21.495748Z"
    }
   },
   "outputs": [
    {
     "data": {
      "image/png": "[encoded data removed]",
      "text/plain": [
       "<Figure size 640x480 with 1 Axes>"
      ]
     },
     "metadata": {},
     "output_type": "display_data"
    },
    {
     "data": {
      "image/png": "[encoded data removed]",
      "text/plain": [
       "<Figure size 640x480 with 1 Axes>"
      ]
     },
     "execution_count": 95,
     "metadata": {},
     "output_type": "execute_result"
    }
   ],
   "source": [
    "# Creates, shows, and returns a figure that summarizes how the fitness value evolved by generation\n",
    "ga_instance.plot_fitness(title=\"PyGAD & Keras - Iteration vs. Fitness\", linewidth=4)"
   ]
  },
  {
   "cell_type": "code",
   "execution_count": 96,
   "metadata": {
    "execution": {
     "iopub.status.busy": "2022-08-09T18:33:21.497190Z",
     "iopub.status.idle": "2022-08-09T18:33:21.497641Z",
     "shell.execute_reply": "2022-08-09T18:33:21.497415Z",
     "shell.execute_reply.started": "2022-08-09T18:33:21.497395Z"
    }
   },
   "outputs": [
    {
     "name": "stdout",
     "output_type": "stream",
     "text": [
      "329/329 [==============================] - 2s 5ms/step\n",
      "329/329 [==============================] - 2s 5ms/step\n",
      "329/329 [==============================] - 2s 5ms/step\n",
      "329/329 [==============================] - 2s 5ms/step\n",
      "329/329 [==============================] - 2s 5ms/step\n",
      "329/329 [==============================] - 2s 5ms/step\n",
      "329/329 [==============================] - 2s 5ms/step\n",
      "329/329 [==============================] - 2s 5ms/step\n",
      "329/329 [==============================] - 2s 5ms/step\n",
      "329/329 [==============================] - 2s 5ms/step\n",
      "329/329 [==============================] - 2s 5ms/step\n",
      "329/329 [==============================] - 2s 5ms/step\n",
      "329/329 [==============================] - 1s 4ms/step\n",
      "329/329 [==============================] - 1s 4ms/step\n",
      "329/329 [==============================] - 2s 5ms/step\n",
      "329/329 [==============================] - 2s 4ms/step\n",
      "329/329 [==============================] - 1s 4ms/step\n",
      "329/329 [==============================] - 1s 4ms/step\n",
      "329/329 [==============================] - 1s 4ms/step\n",
      "329/329 [==============================] - 1s 4ms/step\n",
      "329/329 [==============================] - 1s 4ms/step\n",
      "329/329 [==============================] - 1s 4ms/step\n",
      "329/329 [==============================] - 1s 4ms/step\n",
      "329/329 [==============================] - 1s 4ms/step\n",
      "329/329 [==============================] - 1s 4ms/step\n",
      "329/329 [==============================] - 1s 4ms/step\n",
      "329/329 [==============================] - 1s 4ms/step\n",
      "329/329 [==============================] - 1s 4ms/step\n",
      "329/329 [==============================] - 1s 4ms/step\n",
      "329/329 [==============================] - 1s 4ms/step\n",
      "329/329 [==============================] - 1s 4ms/step\n",
      "329/329 [==============================] - 1s 4ms/step\n",
      "329/329 [==============================] - 1s 4ms/step\n",
      "329/329 [==============================] - 1s 4ms/step\n",
      "329/329 [==============================] - 1s 4ms/step\n",
      "329/329 [==============================] - 1s 4ms/step\n",
      "329/329 [==============================] - 1s 4ms/step\n",
      "329/329 [==============================] - 1s 4ms/step\n",
      "329/329 [==============================] - 1s 4ms/step\n",
      "329/329 [==============================] - 1s 4ms/step\n",
      "329/329 [==============================] - 1s 4ms/step\n",
      "329/329 [==============================] - 1s 4ms/step\n",
      "329/329 [==============================] - 1s 4ms/step\n",
      "329/329 [==============================] - 1s 4ms/step\n",
      "329/329 [==============================] - 1s 4ms/step\n",
      "329/329 [==============================] - 1s 4ms/step\n",
      "329/329 [==============================] - 1s 4ms/step\n",
      "329/329 [==============================] - 1s 4ms/step\n",
      "329/329 [==============================] - 1s 4ms/step\n",
      "Fitness value of the best solution = 0.7842097639207681\n",
      "Index of the best solution : 0\n"
     ]
    }
   ],
   "source": [
    "# Returning the details of the best solution.\n",
    "solution, solution_fitness, solution_idx = ga_instance.best_solution()\n",
    "print(\"Fitness value of the best solution = {solution_fitness}\".format(solution_fitness=solution_fitness))\n",
    "print(\"Index of the best solution : {solution_idx}\".format(solution_idx=solution_idx))"
   ]
  },
  {
   "cell_type": "code",
   "execution_count": 97,
   "metadata": {
    "execution": {
     "iopub.status.busy": "2022-08-09T18:33:21.499498Z",
     "iopub.status.idle": "2022-08-09T18:33:21.499919Z",
     "shell.execute_reply": "2022-08-09T18:33:21.499738Z",
     "shell.execute_reply.started": "2022-08-09T18:33:21.499714Z"
    }
   },
   "outputs": [
    {
     "name": "stdout",
     "output_type": "stream",
     "text": [
      "329/329 [==============================] - 1s 4ms/step\n",
      "Predictions : \n",
      " [[0.39845833]\n",
      " [0.1300124 ]\n",
      " [0.04297306]\n",
      " ...\n",
      " [0.5501777 ]\n",
      " [0.5224225 ]\n",
      " [0.75785166]]\n"
     ]
    }
   ],
   "source": [
    "# Make prediction based on the best solution.\n",
    "predictions = predict(model=model,\n",
    "                      solution=solution,\n",
    "                      data=data_input)\n",
    "\n",
    "print(\"Predictions : \\n\", predictions)"
   ]
  },
  {
   "cell_type": "code",
   "execution_count": 98,
   "metadata": {
    "execution": {
     "iopub.status.busy": "2022-08-09T18:33:21.501061Z",
     "iopub.status.idle": "2022-08-09T18:33:21.501486Z",
     "shell.execute_reply": "2022-08-09T18:33:21.501278Z",
     "shell.execute_reply.started": "2022-08-09T18:33:21.501260Z"
    }
   },
   "outputs": [
    {
     "name": "stdout",
     "output_type": "stream",
     "text": [
      "BinaryCrossentropy: 1.275\n",
      "Binary Accuracy: 0.799\n"
     ]
    }
   ],
   "source": [
    "# calculate the binary crossentropy for the trained model\n",
    "bce = BinaryCrossentropy()\n",
    "print(\"BinaryCrossentropy: {:.3f}\".format(bce(data_output, predictions).numpy()))\n",
    "\n",
    "# calculate the binary accuracy on the trained model\n",
    "ba = BinaryAccuracy()\n",
    "ba.update_state(data_output, predictions)\n",
    "accuracy = ba.result().numpy()\n",
    "print(\"Binary Accuracy: {:.3f}\".format(accuracy))"
   ]
  }
 ],
 "metadata": {
  "kernelspec": {
   "display_name": "Python 3 (ipykernel)",
   "language": "python",
   "name": "python3"
  },
  "language_info": {
   "codemirror_mode": {
    "name": "ipython",
    "version": 3
   },
   "file_extension": ".py",
   "mimetype": "text/x-python",
   "name": "python",
   "nbconvert_exporter": "python",
   "pygments_lexer": "ipython3",
   "version": "3.10.2"
  }
 },
 "nbformat": 4,
 "nbformat_minor": 4
}
